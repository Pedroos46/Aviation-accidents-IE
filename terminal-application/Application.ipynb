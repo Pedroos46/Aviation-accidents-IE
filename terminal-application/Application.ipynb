{
  "nbformat": 4,
  "nbformat_minor": 0,
  "metadata": {
    "colab": {
      "name": "Application.ipynb",
      "provenance": [],
      "collapsed_sections": []
    },
    "kernelspec": {
      "name": "python3",
      "display_name": "Python 3"
    },
    "language_info": {
      "name": "python"
    }
  },
  "cells": [
    {
      "cell_type": "markdown",
      "source": [
        "# Application"
      ],
      "metadata": {
        "id": "ERsJOsbKlrba"
      }
    },
    {
      "cell_type": "markdown",
      "source": [
        "News extractive summarizer application"
      ],
      "metadata": {
        "id": "j3n7wZ7Ilv5r"
      }
    },
    {
      "cell_type": "markdown",
      "metadata": {
        "id": "Ti1mySZQVvcA"
      },
      "source": [
        "## Loading model to apply to new text"
      ]
    },
    {
      "cell_type": "code",
      "source": [
        "#Mount Google drive\n",
        "from google.colab import drive\n",
        "drive.mount('/content/drive')"
      ],
      "metadata": {
        "colab": {
          "base_uri": "https://localhost:8080/"
        },
        "id": "nkLoXaElmEk4",
        "outputId": "08860791-5108-4cde-eea8-d3b4465d6b43"
      },
      "execution_count": null,
      "outputs": [
        {
          "output_type": "stream",
          "name": "stdout",
          "text": [
            "Drive already mounted at /content/drive; to attempt to forcibly remount, call drive.mount(\"/content/drive\", force_remount=True).\n"
          ]
        }
      ]
    },
    {
      "cell_type": "code",
      "source": [
        "#change current working directory\n",
        "%cd /content/drive/Shareddrives/Aplicacion inteligencia de la web/Lab2"
      ],
      "metadata": {
        "colab": {
          "base_uri": "https://localhost:8080/"
        },
        "id": "yjKq7KdymFsf",
        "outputId": "37fe7d3e-e652-4bfb-c720-edfe11ed82d9"
      },
      "execution_count": null,
      "outputs": [
        {
          "output_type": "stream",
          "name": "stdout",
          "text": [
            "/content/drive/Shareddrives/Aplicacion inteligencia de la web/Lab2\n"
          ]
        }
      ]
    },
    {
      "cell_type": "code",
      "metadata": {
        "id": "rlfBpPcMVy-b",
        "colab": {
          "base_uri": "https://localhost:8080/"
        },
        "outputId": "d5e46123-e826-4409-e240-33e3a67cba44"
      },
      "source": [
        "## CARGAMOS EL MODELO\n",
        "!pip install transformers\n",
        "!pip install seqeval\n",
        "import json\n",
        "import torch\n",
        "import numpy as np\n",
        "from torch import cuda\n",
        "from flask import Flask,request,jsonify,render_template\n",
        "import os\n",
        "from transformers import BertTokenizerFast, BertConfig, BertForTokenClassification\n",
        "import nltk\n",
        "from nltk import word_tokenize\n",
        "nltk.download('punkt')\n",
        "\n",
        "device = 'cuda' if cuda.is_available() else 'cpu'\n",
        "\n",
        "path = './model/aviation-accidents.pt'\n",
        "loaded_model = torch.load(path, map_location=torch.device(device))\n",
        "loaded_model.to(device)\n",
        "\n",
        "# Save tokenizer?\n",
        "BERT_MODEL_NAME = 'bert-base-uncased'\n",
        "tokenizer = BertTokenizerFast.from_pretrained(BERT_MODEL_NAME)\n",
        "\n",
        "# Load data\n",
        "f = open('./model/data.json',)\n",
        "data = json.load(f)\n",
        "data['index2tag'] = {int(k): v for k,v in data['index2tag'].items()}\n",
        "\n",
        "f.close()"
      ],
      "execution_count": null,
      "outputs": [
        {
          "output_type": "stream",
          "name": "stdout",
          "text": [
            "Requirement already satisfied: transformers in /usr/local/lib/python3.7/dist-packages (4.13.0)\n",
            "Requirement already satisfied: tqdm>=4.27 in /usr/local/lib/python3.7/dist-packages (from transformers) (4.62.3)\n",
            "Requirement already satisfied: numpy>=1.17 in /usr/local/lib/python3.7/dist-packages (from transformers) (1.19.5)\n",
            "Requirement already satisfied: requests in /usr/local/lib/python3.7/dist-packages (from transformers) (2.23.0)\n",
            "Requirement already satisfied: packaging>=20.0 in /usr/local/lib/python3.7/dist-packages (from transformers) (21.3)\n",
            "Requirement already satisfied: regex!=2019.12.17 in /usr/local/lib/python3.7/dist-packages (from transformers) (2019.12.20)\n",
            "Requirement already satisfied: sacremoses in /usr/local/lib/python3.7/dist-packages (from transformers) (0.0.46)\n",
            "Requirement already satisfied: pyyaml>=5.1 in /usr/local/lib/python3.7/dist-packages (from transformers) (6.0)\n",
            "Requirement already satisfied: tokenizers<0.11,>=0.10.1 in /usr/local/lib/python3.7/dist-packages (from transformers) (0.10.3)\n",
            "Requirement already satisfied: huggingface-hub<1.0,>=0.1.0 in /usr/local/lib/python3.7/dist-packages (from transformers) (0.2.1)\n",
            "Requirement already satisfied: importlib-metadata in /usr/local/lib/python3.7/dist-packages (from transformers) (4.8.2)\n",
            "Requirement already satisfied: filelock in /usr/local/lib/python3.7/dist-packages (from transformers) (3.4.0)\n",
            "Requirement already satisfied: typing-extensions>=3.7.4.3 in /usr/local/lib/python3.7/dist-packages (from huggingface-hub<1.0,>=0.1.0->transformers) (3.10.0.2)\n",
            "Requirement already satisfied: pyparsing!=3.0.5,>=2.0.2 in /usr/local/lib/python3.7/dist-packages (from packaging>=20.0->transformers) (3.0.6)\n",
            "Requirement already satisfied: zipp>=0.5 in /usr/local/lib/python3.7/dist-packages (from importlib-metadata->transformers) (3.6.0)\n",
            "Requirement already satisfied: idna<3,>=2.5 in /usr/local/lib/python3.7/dist-packages (from requests->transformers) (2.10)\n",
            "Requirement already satisfied: chardet<4,>=3.0.2 in /usr/local/lib/python3.7/dist-packages (from requests->transformers) (3.0.4)\n",
            "Requirement already satisfied: urllib3!=1.25.0,!=1.25.1,<1.26,>=1.21.1 in /usr/local/lib/python3.7/dist-packages (from requests->transformers) (1.24.3)\n",
            "Requirement already satisfied: certifi>=2017.4.17 in /usr/local/lib/python3.7/dist-packages (from requests->transformers) (2021.10.8)\n",
            "Requirement already satisfied: six in /usr/local/lib/python3.7/dist-packages (from sacremoses->transformers) (1.15.0)\n",
            "Requirement already satisfied: joblib in /usr/local/lib/python3.7/dist-packages (from sacremoses->transformers) (1.1.0)\n",
            "Requirement already satisfied: click in /usr/local/lib/python3.7/dist-packages (from sacremoses->transformers) (7.1.2)\n",
            "Requirement already satisfied: seqeval in /usr/local/lib/python3.7/dist-packages (1.2.2)\n",
            "Requirement already satisfied: scikit-learn>=0.21.3 in /usr/local/lib/python3.7/dist-packages (from seqeval) (1.0.1)\n",
            "Requirement already satisfied: numpy>=1.14.0 in /usr/local/lib/python3.7/dist-packages (from seqeval) (1.19.5)\n",
            "Requirement already satisfied: scipy>=1.1.0 in /usr/local/lib/python3.7/dist-packages (from scikit-learn>=0.21.3->seqeval) (1.4.1)\n",
            "Requirement already satisfied: joblib>=0.11 in /usr/local/lib/python3.7/dist-packages (from scikit-learn>=0.21.3->seqeval) (1.1.0)\n",
            "Requirement already satisfied: threadpoolctl>=2.0.0 in /usr/local/lib/python3.7/dist-packages (from scikit-learn>=0.21.3->seqeval) (3.0.0)\n",
            "[nltk_data] Downloading package punkt to /root/nltk_data...\n",
            "[nltk_data]   Package punkt is already up-to-date!\n"
          ]
        }
      ]
    },
    {
      "cell_type": "markdown",
      "metadata": {
        "id": "OEYHtTCHvNin"
      },
      "source": [
        "## Test with 10 own collected data ##\n",
        "\n",
        "---\n",
        "\n"
      ]
    },
    {
      "cell_type": "code",
      "metadata": {
        "id": "iDUxnjdPzh63"
      },
      "source": [
        "# 10 Example sentences.\n",
        "sentence1 = 'On July 17, 2014, Malaysia Airlines Flight 17, a Boeing 777-200ER, flying from Amsterdam to Kuala Lumpur, was shot down in an area of Eastern Ukraine near the Ukraine/Russian border during the war in Donbas.'\n",
        "sentence2 = 'On July 3, 1988, Iran Air Flight 655, an Iranian Airbus A300-200 airliner, was shot down by two surface-to-air missiles from the U.S. Navy guided missile cruiser USS Vincennes over the Strait of Hormuz.'\n",
        "sentence3 = 'On February 19, 2003, an Iranian military Ilyushin Il-76 crashed in mountainous terrain near Kerman in Iran. The official report says bad weather brought the aircraft down.'\n",
        "sentence4 = 'On September 1, 1983, a Soviet interceptor Sukhoi Su-15 shot down Korean Air Lines Flight 007, a Boeing 747-230B, bound for Gimpo International Airport in Seoul, South Korea, after it flew into Soviet airspace.'\n",
        "sentence5 = 'On July 11, 1991, Nigeria Airways Flight 2120, a Douglas DC-8-61 aircraft operated by Nationair Canada, crashed in Jeddah, Saudi Arabia, after two tires ignited upon takeoff, leading to an in-flight fire.'\n",
        "sentence6 = 'On January 1, 1978, a Boeing 747-237B, Air India Flight 855, crashed into the Arabian Sea just off the coast of Bombay, India, killing all 190 passengers and 23 crew on board.'\n",
        "sentence7 = 'On April 11, 2018, an Algerian Air Force transport plane crashed shortly after take-off from Boufarik Airport, killing all 247 passengers and 10 crew on board the Ilyushin Il-76.'\n",
        "sentence8 = 'On September 26, 1997, an Airbus A300B4-220, Garuda Indonesia Flight 152, which departed from Jakarta, Indonesia, and was preparing to land at Medan, North Sumatra, crashed into mountainous terrain, killing 222 passengers and 12 crew members.'\n",
        "sentence9 = 'On August 6, 1997, a Boeing 747-3B5, Korean Air Flight 801, crashed on approach to the international airport in the United States territory of Guam, killing 228 of the 254 people aboard.'\n",
        "sentence10 = '1939, August 13 – A Pan Am Sikorsky S-43 crashes into Guanabara Bay, Brazil, due to loss of control following engine failure, killing 12 of the 14 on board.'\n",
        "\n",
        "sentence_list = [sentence1, sentence2, sentence3, sentence4, sentence5, sentence6, sentence7, sentence8, sentence9, sentence10]"
      ],
      "execution_count": null,
      "outputs": []
    },
    {
      "cell_type": "code",
      "metadata": {
        "id": "wHKoM6FByq-s"
      },
      "source": [
        "# Generate output list\n",
        "context_list = {}\n",
        "context_list[\"Year\"] = \"THE ACCIDENT HAPPENED IN {}\"\n",
        "context_list[\"DateOfAccident\"] = \"THE DATE OF THE AVIATION ACCIDENT WAS: {}\"\n",
        "context_list[\"NumberOfVictims\"] = \"THERE WERE {} VICTIMS\"\n",
        "context_list[\"Place\"] = \"THE ACCIDENT TOOK PLACE IN: {}\"\n",
        "context_list[\"TypeOfAccident\"] = \"TYPE OF ACCIDENT WAS: {}\"\n",
        "context_list[\"TypeOfAircraft\"] = \"TYPE OF AIRCRAFT WAS: {}\"\n",
        "context_list[\"Airline\"] = \"THE AIRLINE WAS: {}\"\n",
        "context_list[\"FlightNumber\"] = \"THE FLIGHT NUMBER WAS: {}\""
      ],
      "execution_count": null,
      "outputs": []
    },
    {
      "cell_type": "markdown",
      "metadata": {
        "id": "JC1K_StEVzQr"
      },
      "source": [
        "## Application ##\n"
      ]
    },
    {
      "cell_type": "code",
      "metadata": {
        "id": "-m3DtJUjt2Zr"
      },
      "source": [
        "def render_page(word, tag):\n",
        "  if tag in context_list:\n",
        "    print(context_list[tag].format(word))\n",
        "\n",
        "def predict(sentence):\n",
        "  inputs = tokenizer(word_tokenize(sentence),\n",
        "                    is_split_into_words=True, \n",
        "                    return_offsets_mapping=True, \n",
        "                    padding='max_length', \n",
        "                    truncation=True, \n",
        "                    max_length=data['max_seq_len'],\n",
        "                    return_tensors=\"pt\")\n",
        "  # move to gpu\n",
        "  ids = inputs[\"input_ids\"].to(device)\n",
        "  mask = inputs[\"attention_mask\"].to(device)\n",
        "\n",
        "  outputs = loaded_model(ids, attention_mask=mask)\n",
        "  logits = outputs[0]\n",
        "\n",
        "  active_logits = logits.view(-1, loaded_model.num_labels) # shape (batch_size * seq_len, num_labels)\n",
        "  flattened_predictions = torch.argmax(active_logits, axis=1) # shape (batch_size*seq_len,) - predictions at the token level\n",
        "\n",
        "  tokens = tokenizer.convert_ids_to_tokens(ids.squeeze().tolist())\n",
        "  token_predictions = [data['index2tag'][i] for i in flattened_predictions.cpu().numpy()]\n",
        "  wp_preds = list(zip(tokens, token_predictions)) # list of tuples. Each tuple = (wordpiece, prediction)\n",
        "\n",
        "  prediction = []\n",
        "  for token_pred, mapping in zip(wp_preds, inputs[\"offset_mapping\"].squeeze().tolist()):\n",
        "    #only predictions on first word pieces are important\n",
        "    if mapping[0] == 0 and mapping[1] != 0:\n",
        "      prediction.append(token_pred[1])\n",
        "    else:\n",
        "      continue\n",
        "\n",
        "  # Aplicacion.\n",
        "  tag_temp = ''\n",
        "  accumulate_word = ''\n",
        "  bio = False\n",
        "  for word, tag in zip(word_tokenize(sentence), prediction):\n",
        "    # Caso Outside \n",
        "    if tag[0] == 'O' and bio:\n",
        "      render_page(accumulate_word, tag_temp)\n",
        "      tag_temp = ''\n",
        "      accumulate_word = ''\n",
        "      bio = False\n",
        "\n",
        "    # Caso de dos tag currente != tag anterior.\n",
        "    elif tag[2:] != tag_temp and bio:\n",
        "      render_page(accumulate_word, tag_temp)\n",
        "      # Caso de tag currente es tipo Beganning.\n",
        "      if tag[0] == 'B':\n",
        "        tag_temp = tag[2:]\n",
        "        accumulate_word = word\n",
        "        bio = True\n",
        "      else:\n",
        "        bio = False\n",
        "\n",
        "    # Caso generico de inside\n",
        "    elif tag[0] == 'I' and bio:\n",
        "      accumulate_word = \"{} {}\".format(accumulate_word, word)\n",
        "    \n",
        "    # Caso generico de Beginning\n",
        "    elif tag[0] == 'B':\n",
        "      # Caso: B detras de otro B\n",
        "      if bio:\n",
        "        render_page(accumulate_word, tag_temp)\n",
        "\n",
        "      tag_temp = tag[2:]\n",
        "      accumulate_word = word\n",
        "      bio = True\n",
        "\n",
        "    \n"
      ],
      "execution_count": null,
      "outputs": []
    },
    {
      "cell_type": "code",
      "metadata": {
        "colab": {
          "base_uri": "https://localhost:8080/"
        },
        "id": "9W8MNBLTgPt6",
        "outputId": "efaaac1e-f63b-4488-fa57-d5c61bced54d"
      },
      "source": [
        "# Example Sentence: On January 1, 1978, a Boeing 747-237B, Air India Flight 855, crashed into the Arabian Sea just off the coast of Bombay, India, killing all 190 passengers and 23 crew on board\n",
        "\n",
        "while True:\n",
        "  print(\"_\"*100)\n",
        "  sentence = input(\"\\nREADY FOR YOUR TEXT (QUIT to exit): \")\n",
        "  if(sentence.lower() == 'quit'):\n",
        "    print(\"GOODBYE!\")\n",
        "    print(\"_\"*100)\n",
        "    break\n",
        "\n",
        "  print(\"CALLING THE EXTRACTION SYSTEM...\\n\")\n",
        "  predict(sentence)\n"
      ],
      "execution_count": null,
      "outputs": [
        {
          "output_type": "stream",
          "name": "stdout",
          "text": [
            "____________________________________________________________________________________________________\n",
            "\n",
            "READY FOR YOUR TEXT (QUIT to exit): On July 17, 2014, Malaysia Airlines Flight 17, a Boeing 777-200ER, flying from Amsterdam to Kuala Lumpur, was shot down in an area of Eastern Ukraine near the Ukraine/Russian border during the war in Donbas.\n",
            "CALLING THE EXTRACTION SYSTEM...\n",
            "\n",
            "THE DATE OF THE AVIATION ACCIDENT WAS: July 17\n",
            "THE ACCIDENT HAPPENED IN 2014\n",
            "THE AIRLINE WAS: Malaysia Airlines\n",
            "THE FLIGHT NUMBER WAS: Flight 17\n",
            "TYPE OF AIRCRAFT WAS: Boeing 777-200ER\n",
            "THE ACCIDENT TOOK PLACE IN: Amsterdam\n",
            "TYPE OF ACCIDENT WAS: shot down\n",
            "THE ACCIDENT TOOK PLACE IN: Eastern Ukraine\n",
            "THE ACCIDENT TOOK PLACE IN: Ukraine/Russian border\n",
            "THE ACCIDENT TOOK PLACE IN: Donbas\n",
            "____________________________________________________________________________________________________\n",
            "\n",
            "READY FOR YOUR TEXT (QUIT to exit): On July 3, 1988, Iran Air Flight 655, an Iranian Airbus A300-200 airliner, was shot down by two surface-to-air missiles from the U.S. Navy guided missile cruiser USS Vincennes over the Strait of Hormuz.\n",
            "CALLING THE EXTRACTION SYSTEM...\n",
            "\n",
            "THE DATE OF THE AVIATION ACCIDENT WAS: July 3\n",
            "THE ACCIDENT HAPPENED IN 1988\n",
            "THE AIRLINE WAS: Iran Air\n",
            "THE FLIGHT NUMBER WAS: Flight 655\n",
            "TYPE OF AIRCRAFT WAS: Iranian\n",
            "TYPE OF AIRCRAFT WAS: Airbus A300-200\n",
            "THE FLIGHT NUMBER WAS: airliner\n",
            "TYPE OF ACCIDENT WAS: shot down\n",
            "____________________________________________________________________________________________________\n",
            "\n",
            "READY FOR YOUR TEXT (QUIT to exit): 1939, August 13 – A Pan Am Sikorsky S-43 crashes into Guanabara Bay, Brazil, due to loss of control following engine failure, killing 12 of the 14 on board.\n",
            "CALLING THE EXTRACTION SYSTEM...\n",
            "\n",
            "THE ACCIDENT HAPPENED IN 1939\n",
            "THE DATE OF THE AVIATION ACCIDENT WAS: August 13\n",
            "TYPE OF AIRCRAFT WAS: Pan\n",
            "TYPE OF AIRCRAFT WAS: Am\n",
            "TYPE OF AIRCRAFT WAS: Sikorsky S-43\n",
            "TYPE OF ACCIDENT WAS: crashes\n",
            "THE ACCIDENT TOOK PLACE IN: Guanabara Bay , Brazil\n",
            "THERE WERE 12 VICTIMS\n",
            "THERE WERE 14 VICTIMS\n",
            "____________________________________________________________________________________________________\n",
            "\n",
            "READY FOR YOUR TEXT (QUIT to exit): On February 19, 2003, an Iranian military Ilyushin Il-76 crashed in mountainous terrain near Kerman in Iran. The official report says bad weather brought the aircraft down.\n",
            "CALLING THE EXTRACTION SYSTEM...\n",
            "\n",
            "THE DATE OF THE AVIATION ACCIDENT WAS: February 19\n",
            "THE ACCIDENT HAPPENED IN 2003\n",
            "THE AIRLINE WAS: Iranian\n",
            "TYPE OF AIRCRAFT WAS: military\n",
            "TYPE OF AIRCRAFT WAS: Ilyushin Il-76\n",
            "TYPE OF ACCIDENT WAS: crashed\n",
            "____________________________________________________________________________________________________\n",
            "\n",
            "READY FOR YOUR TEXT (QUIT to exit): On September 1, 1983, a Soviet interceptor Sukhoi Su-15 shot down Korean Air Lines Flight 007, a Boeing 747-230B, bound for Gimpo International Airport in Seoul, South Korea, after it flew into Soviet airspace.\n",
            "CALLING THE EXTRACTION SYSTEM...\n",
            "\n",
            "THE DATE OF THE AVIATION ACCIDENT WAS: September 1\n",
            "THE ACCIDENT HAPPENED IN 1983\n",
            "TYPE OF AIRCRAFT WAS: Soviet\n",
            "TYPE OF AIRCRAFT WAS: interceptor\n",
            "TYPE OF AIRCRAFT WAS: Sukhoi Su-15\n",
            "TYPE OF ACCIDENT WAS: shot\n",
            "THE AIRLINE WAS: Korean Air Lines\n",
            "THE FLIGHT NUMBER WAS: Flight 007\n",
            "TYPE OF AIRCRAFT WAS: Boeing 747-230B\n",
            "THE ACCIDENT TOOK PLACE IN: Gimpo International Airport in Seoul , South Korea\n",
            "____________________________________________________________________________________________________\n",
            "\n",
            "READY FOR YOUR TEXT (QUIT to exit): On July 11, 1991, Nigeria Airways Flight 2120, a Douglas DC-8-61 aircraft operated by Nationair Canada, crashed in Jeddah, Saudi Arabia, after two tires ignited upon takeoff, leading to an in-flight fire.\n",
            "CALLING THE EXTRACTION SYSTEM...\n",
            "\n",
            "THE DATE OF THE AVIATION ACCIDENT WAS: July 11\n",
            "THE ACCIDENT HAPPENED IN 1991\n",
            "THE AIRLINE WAS: Nigeria Airways\n",
            "THE FLIGHT NUMBER WAS: Flight 2120\n",
            "TYPE OF AIRCRAFT WAS: Douglas DC-8-61\n",
            "THE AIRLINE WAS: Nationair Canada\n",
            "TYPE OF ACCIDENT WAS: crashed\n",
            "____________________________________________________________________________________________________\n",
            "\n",
            "READY FOR YOUR TEXT (QUIT to exit): On January 1, 1978, a Boeing 747-237B, Air India Flight 855, crashed into the Arabian Sea just off the coast of Bombay, India, killing all 190 passengers and 23 crew on board.\n",
            "CALLING THE EXTRACTION SYSTEM...\n",
            "\n",
            "THE DATE OF THE AVIATION ACCIDENT WAS: January 1\n",
            "THE ACCIDENT HAPPENED IN 1978\n",
            "TYPE OF AIRCRAFT WAS: Boeing 747-237B\n",
            "THE AIRLINE WAS: Air India\n",
            "THE FLIGHT NUMBER WAS: Flight 855\n",
            "TYPE OF ACCIDENT WAS: crashed\n",
            "THERE WERE 190 VICTIMS\n",
            "____________________________________________________________________________________________________\n",
            "\n",
            "READY FOR YOUR TEXT (QUIT to exit): On April 11, 2018, an Algerian Air Force transport plane crashed shortly after take-off from Boufarik Airport, killing all 247 passengers and 10 crew on board the Ilyushin Il-76.\n",
            "CALLING THE EXTRACTION SYSTEM...\n",
            "\n",
            "THE DATE OF THE AVIATION ACCIDENT WAS: April 11\n",
            "THE ACCIDENT HAPPENED IN 2018\n",
            "THE AIRLINE WAS: Algerian\n",
            "TYPE OF AIRCRAFT WAS: Air\n",
            "TYPE OF ACCIDENT WAS: crashed\n",
            "THE ACCIDENT TOOK PLACE IN: Boufarik Airport\n",
            "THERE WERE 247 VICTIMS\n",
            "TYPE OF AIRCRAFT WAS: Ilyushin Il-76\n",
            "____________________________________________________________________________________________________\n",
            "\n",
            "READY FOR YOUR TEXT (QUIT to exit): On September 26, 1997, an Airbus A300B4-220, Garuda Indonesia Flight 152, which departed from Jakarta, Indonesia, and was preparing to land at Medan, North Sumatra, crashed into mountainous terrain, killing 222 passengers and 12 crew members.\n",
            "CALLING THE EXTRACTION SYSTEM...\n",
            "\n",
            "THE DATE OF THE AVIATION ACCIDENT WAS: September 26\n",
            "THE ACCIDENT HAPPENED IN 1997\n",
            "TYPE OF AIRCRAFT WAS: Airbus A300B4-220\n",
            "THE AIRLINE WAS: Garuda Indonesia\n",
            "THE FLIGHT NUMBER WAS: Flight 152\n",
            "THE ACCIDENT TOOK PLACE IN: Medan , North Sumatra\n",
            "TYPE OF ACCIDENT WAS: crashed\n",
            "THERE WERE 222 VICTIMS\n",
            "____________________________________________________________________________________________________\n",
            "\n",
            "READY FOR YOUR TEXT (QUIT to exit): On August 6, 1997, a Boeing 747-3B5, Korean Air Flight 801, crashed on approach to the international airport in the United States territory of Guam, killing 228 of the 254 people aboard.\n",
            "CALLING THE EXTRACTION SYSTEM...\n",
            "\n",
            "THE DATE OF THE AVIATION ACCIDENT WAS: August 6\n",
            "THE ACCIDENT HAPPENED IN 1997\n",
            "TYPE OF AIRCRAFT WAS: Boeing 747-3B5\n",
            "THE AIRLINE WAS: Korean Air\n",
            "THE FLIGHT NUMBER WAS: Flight 801\n",
            "TYPE OF ACCIDENT WAS: crashed\n",
            "THERE WERE 228 VICTIMS\n",
            "THERE WERE 254 VICTIMS\n",
            "____________________________________________________________________________________________________\n",
            "\n",
            "READY FOR YOUR TEXT (QUIT to exit): quit\n",
            "GOODBYE!\n",
            "____________________________________________________________________________________________________\n"
          ]
        }
      ]
    },
    {
      "cell_type": "code",
      "source": [
        ""
      ],
      "metadata": {
        "id": "9B37qcjdp-qW"
      },
      "execution_count": null,
      "outputs": []
    }
  ]
}