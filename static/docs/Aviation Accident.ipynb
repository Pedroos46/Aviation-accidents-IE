{
 "nbformat": 4,
 "nbformat_minor": 0,
 "metadata": {
  "accelerator": "GPU",
  "colab": {
   "name": "Aviation Accident.ipynb",
   "provenance": [],
   "collapsed_sections": [],
   "toc_visible": true
  },
  "kernelspec": {
   "display_name": "Python 3",
   "name": "python3"
  },
  "language_info": {
   "name": "python"
  },
  "widgets": {
   "application/vnd.jupyter.widget-state+json": {
    "01593b3ecd7d4aafa443257fceeb167e": {
     "model_module": "@jupyter-widgets/controls",
     "model_name": "HBoxModel",
     "model_module_version": "1.5.0",
     "state": {
      "_view_name": "HBoxView",
      "_dom_classes": [],
      "_model_name": "HBoxModel",
      "_view_module": "@jupyter-widgets/controls",
      "_model_module_version": "1.5.0",
      "_view_count": null,
      "_view_module_version": "1.5.0",
      "box_style": "",
      "layout": "IPY_MODEL_d48e2b61a7db45e59fd214cc156fa3cf",
      "_model_module": "@jupyter-widgets/controls",
      "children": [
       "IPY_MODEL_c1e67ef12b8546b1a3c2065ffa6c3f40",
       "IPY_MODEL_82c80ea6c08743c685f962d581960182",
       "IPY_MODEL_d68874a8366e4299aad5c2bb5095bc86"
      ]
     }
    },
    "d48e2b61a7db45e59fd214cc156fa3cf": {
     "model_module": "@jupyter-widgets/base",
     "model_name": "LayoutModel",
     "model_module_version": "1.2.0",
     "state": {
      "_view_name": "LayoutView",
      "grid_template_rows": null,
      "right": null,
      "justify_content": null,
      "_view_module": "@jupyter-widgets/base",
      "overflow": null,
      "_model_module_version": "1.2.0",
      "_view_count": null,
      "flex_flow": null,
      "width": null,
      "min_width": null,
      "border": null,
      "align_items": null,
      "bottom": null,
      "_model_module": "@jupyter-widgets/base",
      "top": null,
      "grid_column": null,
      "overflow_y": null,
      "overflow_x": null,
      "grid_auto_flow": null,
      "grid_area": null,
      "grid_template_columns": null,
      "flex": null,
      "_model_name": "LayoutModel",
      "justify_items": null,
      "grid_row": null,
      "max_height": null,
      "align_content": null,
      "visibility": null,
      "align_self": null,
      "height": null,
      "min_height": null,
      "padding": null,
      "grid_auto_rows": null,
      "grid_gap": null,
      "max_width": null,
      "order": null,
      "_view_module_version": "1.2.0",
      "grid_template_areas": null,
      "object_position": null,
      "object_fit": null,
      "grid_auto_columns": null,
      "margin": null,
      "display": null,
      "left": null
     }
    },
    "c1e67ef12b8546b1a3c2065ffa6c3f40": {
     "model_module": "@jupyter-widgets/controls",
     "model_name": "HTMLModel",
     "model_module_version": "1.5.0",
     "state": {
      "_view_name": "HTMLView",
      "style": "IPY_MODEL_ff2df86eeb2b4fdfb29288b6c2dc4417",
      "_dom_classes": [],
      "description": "",
      "_model_name": "HTMLModel",
      "placeholder": "​",
      "_view_module": "@jupyter-widgets/controls",
      "_model_module_version": "1.5.0",
      "value": "Downloading: 100%",
      "_view_count": null,
      "_view_module_version": "1.5.0",
      "description_tooltip": null,
      "_model_module": "@jupyter-widgets/controls",
      "layout": "IPY_MODEL_c6c1bc6b270a4ddbaa57860a8913b383"
     }
    },
    "82c80ea6c08743c685f962d581960182": {
     "model_module": "@jupyter-widgets/controls",
     "model_name": "FloatProgressModel",
     "model_module_version": "1.5.0",
     "state": {
      "_view_name": "ProgressView",
      "style": "IPY_MODEL_42267686b8e94761b3ff69e19e5674c8",
      "_dom_classes": [],
      "description": "",
      "_model_name": "FloatProgressModel",
      "bar_style": "success",
      "max": 231508,
      "_view_module": "@jupyter-widgets/controls",
      "_model_module_version": "1.5.0",
      "value": 231508,
      "_view_count": null,
      "_view_module_version": "1.5.0",
      "orientation": "horizontal",
      "min": 0,
      "description_tooltip": null,
      "_model_module": "@jupyter-widgets/controls",
      "layout": "IPY_MODEL_c1005c646c1b4ae18e87e5f004826263"
     }
    },
    "d68874a8366e4299aad5c2bb5095bc86": {
     "model_module": "@jupyter-widgets/controls",
     "model_name": "HTMLModel",
     "model_module_version": "1.5.0",
     "state": {
      "_view_name": "HTMLView",
      "style": "IPY_MODEL_fa77f7ef943c41ada8657281e934bb59",
      "_dom_classes": [],
      "description": "",
      "_model_name": "HTMLModel",
      "placeholder": "​",
      "_view_module": "@jupyter-widgets/controls",
      "_model_module_version": "1.5.0",
      "value": " 226k/226k [00:00&lt;00:00, 668kB/s]",
      "_view_count": null,
      "_view_module_version": "1.5.0",
      "description_tooltip": null,
      "_model_module": "@jupyter-widgets/controls",
      "layout": "IPY_MODEL_fd6e719d6e9746d38a099c3f974d81e3"
     }
    },
    "ff2df86eeb2b4fdfb29288b6c2dc4417": {
     "model_module": "@jupyter-widgets/controls",
     "model_name": "DescriptionStyleModel",
     "model_module_version": "1.5.0",
     "state": {
      "_view_name": "StyleView",
      "_model_name": "DescriptionStyleModel",
      "description_width": "",
      "_view_module": "@jupyter-widgets/base",
      "_model_module_version": "1.5.0",
      "_view_count": null,
      "_view_module_version": "1.2.0",
      "_model_module": "@jupyter-widgets/controls"
     }
    },
    "c6c1bc6b270a4ddbaa57860a8913b383": {
     "model_module": "@jupyter-widgets/base",
     "model_name": "LayoutModel",
     "model_module_version": "1.2.0",
     "state": {
      "_view_name": "LayoutView",
      "grid_template_rows": null,
      "right": null,
      "justify_content": null,
      "_view_module": "@jupyter-widgets/base",
      "overflow": null,
      "_model_module_version": "1.2.0",
      "_view_count": null,
      "flex_flow": null,
      "width": null,
      "min_width": null,
      "border": null,
      "align_items": null,
      "bottom": null,
      "_model_module": "@jupyter-widgets/base",
      "top": null,
      "grid_column": null,
      "overflow_y": null,
      "overflow_x": null,
      "grid_auto_flow": null,
      "grid_area": null,
      "grid_template_columns": null,
      "flex": null,
      "_model_name": "LayoutModel",
      "justify_items": null,
      "grid_row": null,
      "max_height": null,
      "align_content": null,
      "visibility": null,
      "align_self": null,
      "height": null,
      "min_height": null,
      "padding": null,
      "grid_auto_rows": null,
      "grid_gap": null,
      "max_width": null,
      "order": null,
      "_view_module_version": "1.2.0",
      "grid_template_areas": null,
      "object_position": null,
      "object_fit": null,
      "grid_auto_columns": null,
      "margin": null,
      "display": null,
      "left": null
     }
    },
    "42267686b8e94761b3ff69e19e5674c8": {
     "model_module": "@jupyter-widgets/controls",
     "model_name": "ProgressStyleModel",
     "model_module_version": "1.5.0",
     "state": {
      "_view_name": "StyleView",
      "_model_name": "ProgressStyleModel",
      "description_width": "",
      "_view_module": "@jupyter-widgets/base",
      "_model_module_version": "1.5.0",
      "_view_count": null,
      "_view_module_version": "1.2.0",
      "bar_color": null,
      "_model_module": "@jupyter-widgets/controls"
     }
    },
    "c1005c646c1b4ae18e87e5f004826263": {
     "model_module": "@jupyter-widgets/base",
     "model_name": "LayoutModel",
     "model_module_version": "1.2.0",
     "state": {
      "_view_name": "LayoutView",
      "grid_template_rows": null,
      "right": null,
      "justify_content": null,
      "_view_module": "@jupyter-widgets/base",
      "overflow": null,
      "_model_module_version": "1.2.0",
      "_view_count": null,
      "flex_flow": null,
      "width": null,
      "min_width": null,
      "border": null,
      "align_items": null,
      "bottom": null,
      "_model_module": "@jupyter-widgets/base",
      "top": null,
      "grid_column": null,
      "overflow_y": null,
      "overflow_x": null,
      "grid_auto_flow": null,
      "grid_area": null,
      "grid_template_columns": null,
      "flex": null,
      "_model_name": "LayoutModel",
      "justify_items": null,
      "grid_row": null,
      "max_height": null,
      "align_content": null,
      "visibility": null,
      "align_self": null,
      "height": null,
      "min_height": null,
      "padding": null,
      "grid_auto_rows": null,
      "grid_gap": null,
      "max_width": null,
      "order": null,
      "_view_module_version": "1.2.0",
      "grid_template_areas": null,
      "object_position": null,
      "object_fit": null,
      "grid_auto_columns": null,
      "margin": null,
      "display": null,
      "left": null
     }
    },
    "fa77f7ef943c41ada8657281e934bb59": {
     "model_module": "@jupyter-widgets/controls",
     "model_name": "DescriptionStyleModel",
     "model_module_version": "1.5.0",
     "state": {
      "_view_name": "StyleView",
      "_model_name": "DescriptionStyleModel",
      "description_width": "",
      "_view_module": "@jupyter-widgets/base",
      "_model_module_version": "1.5.0",
      "_view_count": null,
      "_view_module_version": "1.2.0",
      "_model_module": "@jupyter-widgets/controls"
     }
    },
    "fd6e719d6e9746d38a099c3f974d81e3": {
     "model_module": "@jupyter-widgets/base",
     "model_name": "LayoutModel",
     "model_module_version": "1.2.0",
     "state": {
      "_view_name": "LayoutView",
      "grid_template_rows": null,
      "right": null,
      "justify_content": null,
      "_view_module": "@jupyter-widgets/base",
      "overflow": null,
      "_model_module_version": "1.2.0",
      "_view_count": null,
      "flex_flow": null,
      "width": null,
      "min_width": null,
      "border": null,
      "align_items": null,
      "bottom": null,
      "_model_module": "@jupyter-widgets/base",
      "top": null,
      "grid_column": null,
      "overflow_y": null,
      "overflow_x": null,
      "grid_auto_flow": null,
      "grid_area": null,
      "grid_template_columns": null,
      "flex": null,
      "_model_name": "LayoutModel",
      "justify_items": null,
      "grid_row": null,
      "max_height": null,
      "align_content": null,
      "visibility": null,
      "align_self": null,
      "height": null,
      "min_height": null,
      "padding": null,
      "grid_auto_rows": null,
      "grid_gap": null,
      "max_width": null,
      "order": null,
      "_view_module_version": "1.2.0",
      "grid_template_areas": null,
      "object_position": null,
      "object_fit": null,
      "grid_auto_columns": null,
      "margin": null,
      "display": null,
      "left": null
     }
    },
    "a879bfb1a7a34729a8b79e6ba6f8ee20": {
     "model_module": "@jupyter-widgets/controls",
     "model_name": "HBoxModel",
     "model_module_version": "1.5.0",
     "state": {
      "_view_name": "HBoxView",
      "_dom_classes": [],
      "_model_name": "HBoxModel",
      "_view_module": "@jupyter-widgets/controls",
      "_model_module_version": "1.5.0",
      "_view_count": null,
      "_view_module_version": "1.5.0",
      "box_style": "",
      "layout": "IPY_MODEL_83b5a5a9a5784e59b03169d5e4e9877a",
      "_model_module": "@jupyter-widgets/controls",
      "children": [
       "IPY_MODEL_262975edf072439894e208317d23040b",
       "IPY_MODEL_b20a0caf522449cf92acc5ba92ab5128",
       "IPY_MODEL_571b4d9482304423b98848cd4990787a"
      ]
     }
    },
    "83b5a5a9a5784e59b03169d5e4e9877a": {
     "model_module": "@jupyter-widgets/base",
     "model_name": "LayoutModel",
     "model_module_version": "1.2.0",
     "state": {
      "_view_name": "LayoutView",
      "grid_template_rows": null,
      "right": null,
      "justify_content": null,
      "_view_module": "@jupyter-widgets/base",
      "overflow": null,
      "_model_module_version": "1.2.0",
      "_view_count": null,
      "flex_flow": null,
      "width": null,
      "min_width": null,
      "border": null,
      "align_items": null,
      "bottom": null,
      "_model_module": "@jupyter-widgets/base",
      "top": null,
      "grid_column": null,
      "overflow_y": null,
      "overflow_x": null,
      "grid_auto_flow": null,
      "grid_area": null,
      "grid_template_columns": null,
      "flex": null,
      "_model_name": "LayoutModel",
      "justify_items": null,
      "grid_row": null,
      "max_height": null,
      "align_content": null,
      "visibility": null,
      "align_self": null,
      "height": null,
      "min_height": null,
      "padding": null,
      "grid_auto_rows": null,
      "grid_gap": null,
      "max_width": null,
      "order": null,
      "_view_module_version": "1.2.0",
      "grid_template_areas": null,
      "object_position": null,
      "object_fit": null,
      "grid_auto_columns": null,
      "margin": null,
      "display": null,
      "left": null
     }
    },
    "262975edf072439894e208317d23040b": {
     "model_module": "@jupyter-widgets/controls",
     "model_name": "HTMLModel",
     "model_module_version": "1.5.0",
     "state": {
      "_view_name": "HTMLView",
      "style": "IPY_MODEL_1319f99b9b2f4b459c5cb865b3040670",
      "_dom_classes": [],
      "description": "",
      "_model_name": "HTMLModel",
      "placeholder": "​",
      "_view_module": "@jupyter-widgets/controls",
      "_model_module_version": "1.5.0",
      "value": "Downloading: 100%",
      "_view_count": null,
      "_view_module_version": "1.5.0",
      "description_tooltip": null,
      "_model_module": "@jupyter-widgets/controls",
      "layout": "IPY_MODEL_50020e9e633f4d74ba05aaaf07571adb"
     }
    },
    "b20a0caf522449cf92acc5ba92ab5128": {
     "model_module": "@jupyter-widgets/controls",
     "model_name": "FloatProgressModel",
     "model_module_version": "1.5.0",
     "state": {
      "_view_name": "ProgressView",
      "style": "IPY_MODEL_75fe64ab355c4c18a2aecc902d2390d2",
      "_dom_classes": [],
      "description": "",
      "_model_name": "FloatProgressModel",
      "bar_style": "success",
      "max": 466062,
      "_view_module": "@jupyter-widgets/controls",
      "_model_module_version": "1.5.0",
      "value": 466062,
      "_view_count": null,
      "_view_module_version": "1.5.0",
      "orientation": "horizontal",
      "min": 0,
      "description_tooltip": null,
      "_model_module": "@jupyter-widgets/controls",
      "layout": "IPY_MODEL_f33752806b344fa3875e28d8addbce6b"
     }
    },
    "571b4d9482304423b98848cd4990787a": {
     "model_module": "@jupyter-widgets/controls",
     "model_name": "HTMLModel",
     "model_module_version": "1.5.0",
     "state": {
      "_view_name": "HTMLView",
      "style": "IPY_MODEL_91424c60bd4e49c19887759279084635",
      "_dom_classes": [],
      "description": "",
      "_model_name": "HTMLModel",
      "placeholder": "​",
      "_view_module": "@jupyter-widgets/controls",
      "_model_module_version": "1.5.0",
      "value": " 455k/455k [00:00&lt;00:00, 621kB/s]",
      "_view_count": null,
      "_view_module_version": "1.5.0",
      "description_tooltip": null,
      "_model_module": "@jupyter-widgets/controls",
      "layout": "IPY_MODEL_654e8a8adfa341c9885bbbbcf84ccd91"
     }
    },
    "1319f99b9b2f4b459c5cb865b3040670": {
     "model_module": "@jupyter-widgets/controls",
     "model_name": "DescriptionStyleModel",
     "model_module_version": "1.5.0",
     "state": {
      "_view_name": "StyleView",
      "_model_name": "DescriptionStyleModel",
      "description_width": "",
      "_view_module": "@jupyter-widgets/base",
      "_model_module_version": "1.5.0",
      "_view_count": null,
      "_view_module_version": "1.2.0",
      "_model_module": "@jupyter-widgets/controls"
     }
    },
    "50020e9e633f4d74ba05aaaf07571adb": {
     "model_module": "@jupyter-widgets/base",
     "model_name": "LayoutModel",
     "model_module_version": "1.2.0",
     "state": {
      "_view_name": "LayoutView",
      "grid_template_rows": null,
      "right": null,
      "justify_content": null,
      "_view_module": "@jupyter-widgets/base",
      "overflow": null,
      "_model_module_version": "1.2.0",
      "_view_count": null,
      "flex_flow": null,
      "width": null,
      "min_width": null,
      "border": null,
      "align_items": null,
      "bottom": null,
      "_model_module": "@jupyter-widgets/base",
      "top": null,
      "grid_column": null,
      "overflow_y": null,
      "overflow_x": null,
      "grid_auto_flow": null,
      "grid_area": null,
      "grid_template_columns": null,
      "flex": null,
      "_model_name": "LayoutModel",
      "justify_items": null,
      "grid_row": null,
      "max_height": null,
      "align_content": null,
      "visibility": null,
      "align_self": null,
      "height": null,
      "min_height": null,
      "padding": null,
      "grid_auto_rows": null,
      "grid_gap": null,
      "max_width": null,
      "order": null,
      "_view_module_version": "1.2.0",
      "grid_template_areas": null,
      "object_position": null,
      "object_fit": null,
      "grid_auto_columns": null,
      "margin": null,
      "display": null,
      "left": null
     }
    },
    "75fe64ab355c4c18a2aecc902d2390d2": {
     "model_module": "@jupyter-widgets/controls",
     "model_name": "ProgressStyleModel",
     "model_module_version": "1.5.0",
     "state": {
      "_view_name": "StyleView",
      "_model_name": "ProgressStyleModel",
      "description_width": "",
      "_view_module": "@jupyter-widgets/base",
      "_model_module_version": "1.5.0",
      "_view_count": null,
      "_view_module_version": "1.2.0",
      "bar_color": null,
      "_model_module": "@jupyter-widgets/controls"
     }
    },
    "f33752806b344fa3875e28d8addbce6b": {
     "model_module": "@jupyter-widgets/base",
     "model_name": "LayoutModel",
     "model_module_version": "1.2.0",
     "state": {
      "_view_name": "LayoutView",
      "grid_template_rows": null,
      "right": null,
      "justify_content": null,
      "_view_module": "@jupyter-widgets/base",
      "overflow": null,
      "_model_module_version": "1.2.0",
      "_view_count": null,
      "flex_flow": null,
      "width": null,
      "min_width": null,
      "border": null,
      "align_items": null,
      "bottom": null,
      "_model_module": "@jupyter-widgets/base",
      "top": null,
      "grid_column": null,
      "overflow_y": null,
      "overflow_x": null,
      "grid_auto_flow": null,
      "grid_area": null,
      "grid_template_columns": null,
      "flex": null,
      "_model_name": "LayoutModel",
      "justify_items": null,
      "grid_row": null,
      "max_height": null,
      "align_content": null,
      "visibility": null,
      "align_self": null,
      "height": null,
      "min_height": null,
      "padding": null,
      "grid_auto_rows": null,
      "grid_gap": null,
      "max_width": null,
      "order": null,
      "_view_module_version": "1.2.0",
      "grid_template_areas": null,
      "object_position": null,
      "object_fit": null,
      "grid_auto_columns": null,
      "margin": null,
      "display": null,
      "left": null
     }
    },
    "91424c60bd4e49c19887759279084635": {
     "model_module": "@jupyter-widgets/controls",
     "model_name": "DescriptionStyleModel",
     "model_module_version": "1.5.0",
     "state": {
      "_view_name": "StyleView",
      "_model_name": "DescriptionStyleModel",
      "description_width": "",
      "_view_module": "@jupyter-widgets/base",
      "_model_module_version": "1.5.0",
      "_view_count": null,
      "_view_module_version": "1.2.0",
      "_model_module": "@jupyter-widgets/controls"
     }
    },
    "654e8a8adfa341c9885bbbbcf84ccd91": {
     "model_module": "@jupyter-widgets/base",
     "model_name": "LayoutModel",
     "model_module_version": "1.2.0",
     "state": {
      "_view_name": "LayoutView",
      "grid_template_rows": null,
      "right": null,
      "justify_content": null,
      "_view_module": "@jupyter-widgets/base",
      "overflow": null,
      "_model_module_version": "1.2.0",
      "_view_count": null,
      "flex_flow": null,
      "width": null,
      "min_width": null,
      "border": null,
      "align_items": null,
      "bottom": null,
      "_model_module": "@jupyter-widgets/base",
      "top": null,
      "grid_column": null,
      "overflow_y": null,
      "overflow_x": null,
      "grid_auto_flow": null,
      "grid_area": null,
      "grid_template_columns": null,
      "flex": null,
      "_model_name": "LayoutModel",
      "justify_items": null,
      "grid_row": null,
      "max_height": null,
      "align_content": null,
      "visibility": null,
      "align_self": null,
      "height": null,
      "min_height": null,
      "padding": null,
      "grid_auto_rows": null,
      "grid_gap": null,
      "max_width": null,
      "order": null,
      "_view_module_version": "1.2.0",
      "grid_template_areas": null,
      "object_position": null,
      "object_fit": null,
      "grid_auto_columns": null,
      "margin": null,
      "display": null,
      "left": null
     }
    },
    "78988608423342bba96d74383dd21ac1": {
     "model_module": "@jupyter-widgets/controls",
     "model_name": "HBoxModel",
     "model_module_version": "1.5.0",
     "state": {
      "_view_name": "HBoxView",
      "_dom_classes": [],
      "_model_name": "HBoxModel",
      "_view_module": "@jupyter-widgets/controls",
      "_model_module_version": "1.5.0",
      "_view_count": null,
      "_view_module_version": "1.5.0",
      "box_style": "",
      "layout": "IPY_MODEL_3568681a62ae4d2aa93be2edf8e37886",
      "_model_module": "@jupyter-widgets/controls",
      "children": [
       "IPY_MODEL_265605cfb5e7455496b422f9d9ecf452",
       "IPY_MODEL_22a99c221f864eb6b94ad5f5455fc8c6",
       "IPY_MODEL_b71f2171471d4b5282e1f54ab0a23173"
      ]
     }
    },
    "3568681a62ae4d2aa93be2edf8e37886": {
     "model_module": "@jupyter-widgets/base",
     "model_name": "LayoutModel",
     "model_module_version": "1.2.0",
     "state": {
      "_view_name": "LayoutView",
      "grid_template_rows": null,
      "right": null,
      "justify_content": null,
      "_view_module": "@jupyter-widgets/base",
      "overflow": null,
      "_model_module_version": "1.2.0",
      "_view_count": null,
      "flex_flow": null,
      "width": null,
      "min_width": null,
      "border": null,
      "align_items": null,
      "bottom": null,
      "_model_module": "@jupyter-widgets/base",
      "top": null,
      "grid_column": null,
      "overflow_y": null,
      "overflow_x": null,
      "grid_auto_flow": null,
      "grid_area": null,
      "grid_template_columns": null,
      "flex": null,
      "_model_name": "LayoutModel",
      "justify_items": null,
      "grid_row": null,
      "max_height": null,
      "align_content": null,
      "visibility": null,
      "align_self": null,
      "height": null,
      "min_height": null,
      "padding": null,
      "grid_auto_rows": null,
      "grid_gap": null,
      "max_width": null,
      "order": null,
      "_view_module_version": "1.2.0",
      "grid_template_areas": null,
      "object_position": null,
      "object_fit": null,
      "grid_auto_columns": null,
      "margin": null,
      "display": null,
      "left": null
     }
    },
    "265605cfb5e7455496b422f9d9ecf452": {
     "model_module": "@jupyter-widgets/controls",
     "model_name": "HTMLModel",
     "model_module_version": "1.5.0",
     "state": {
      "_view_name": "HTMLView",
      "style": "IPY_MODEL_106afaa5f5ae4e60b2faa0005770a70e",
      "_dom_classes": [],
      "description": "",
      "_model_name": "HTMLModel",
      "placeholder": "​",
      "_view_module": "@jupyter-widgets/controls",
      "_model_module_version": "1.5.0",
      "value": "Downloading: 100%",
      "_view_count": null,
      "_view_module_version": "1.5.0",
      "description_tooltip": null,
      "_model_module": "@jupyter-widgets/controls",
      "layout": "IPY_MODEL_e50109a39dd041ebbf9242b46388aaf9"
     }
    },
    "22a99c221f864eb6b94ad5f5455fc8c6": {
     "model_module": "@jupyter-widgets/controls",
     "model_name": "FloatProgressModel",
     "model_module_version": "1.5.0",
     "state": {
      "_view_name": "ProgressView",
      "style": "IPY_MODEL_c0959a77b00448628e08e69f0b5a89c6",
      "_dom_classes": [],
      "description": "",
      "_model_name": "FloatProgressModel",
      "bar_style": "success",
      "max": 28,
      "_view_module": "@jupyter-widgets/controls",
      "_model_module_version": "1.5.0",
      "value": 28,
      "_view_count": null,
      "_view_module_version": "1.5.0",
      "orientation": "horizontal",
      "min": 0,
      "description_tooltip": null,
      "_model_module": "@jupyter-widgets/controls",
      "layout": "IPY_MODEL_ad7fec552fa24566b7f8bf04c05cb0f3"
     }
    },
    "b71f2171471d4b5282e1f54ab0a23173": {
     "model_module": "@jupyter-widgets/controls",
     "model_name": "HTMLModel",
     "model_module_version": "1.5.0",
     "state": {
      "_view_name": "HTMLView",
      "style": "IPY_MODEL_edeff7f1d9da45b7b0bc4da29e6874ec",
      "_dom_classes": [],
      "description": "",
      "_model_name": "HTMLModel",
      "placeholder": "​",
      "_view_module": "@jupyter-widgets/controls",
      "_model_module_version": "1.5.0",
      "value": " 28.0/28.0 [00:00&lt;00:00, 557B/s]",
      "_view_count": null,
      "_view_module_version": "1.5.0",
      "description_tooltip": null,
      "_model_module": "@jupyter-widgets/controls",
      "layout": "IPY_MODEL_09d9553d47a54b09a0e14f34f4eb0b8b"
     }
    },
    "106afaa5f5ae4e60b2faa0005770a70e": {
     "model_module": "@jupyter-widgets/controls",
     "model_name": "DescriptionStyleModel",
     "model_module_version": "1.5.0",
     "state": {
      "_view_name": "StyleView",
      "_model_name": "DescriptionStyleModel",
      "description_width": "",
      "_view_module": "@jupyter-widgets/base",
      "_model_module_version": "1.5.0",
      "_view_count": null,
      "_view_module_version": "1.2.0",
      "_model_module": "@jupyter-widgets/controls"
     }
    },
    "e50109a39dd041ebbf9242b46388aaf9": {
     "model_module": "@jupyter-widgets/base",
     "model_name": "LayoutModel",
     "model_module_version": "1.2.0",
     "state": {
      "_view_name": "LayoutView",
      "grid_template_rows": null,
      "right": null,
      "justify_content": null,
      "_view_module": "@jupyter-widgets/base",
      "overflow": null,
      "_model_module_version": "1.2.0",
      "_view_count": null,
      "flex_flow": null,
      "width": null,
      "min_width": null,
      "border": null,
      "align_items": null,
      "bottom": null,
      "_model_module": "@jupyter-widgets/base",
      "top": null,
      "grid_column": null,
      "overflow_y": null,
      "overflow_x": null,
      "grid_auto_flow": null,
      "grid_area": null,
      "grid_template_columns": null,
      "flex": null,
      "_model_name": "LayoutModel",
      "justify_items": null,
      "grid_row": null,
      "max_height": null,
      "align_content": null,
      "visibility": null,
      "align_self": null,
      "height": null,
      "min_height": null,
      "padding": null,
      "grid_auto_rows": null,
      "grid_gap": null,
      "max_width": null,
      "order": null,
      "_view_module_version": "1.2.0",
      "grid_template_areas": null,
      "object_position": null,
      "object_fit": null,
      "grid_auto_columns": null,
      "margin": null,
      "display": null,
      "left": null
     }
    },
    "c0959a77b00448628e08e69f0b5a89c6": {
     "model_module": "@jupyter-widgets/controls",
     "model_name": "ProgressStyleModel",
     "model_module_version": "1.5.0",
     "state": {
      "_view_name": "StyleView",
      "_model_name": "ProgressStyleModel",
      "description_width": "",
      "_view_module": "@jupyter-widgets/base",
      "_model_module_version": "1.5.0",
      "_view_count": null,
      "_view_module_version": "1.2.0",
      "bar_color": null,
      "_model_module": "@jupyter-widgets/controls"
     }
    },
    "ad7fec552fa24566b7f8bf04c05cb0f3": {
     "model_module": "@jupyter-widgets/base",
     "model_name": "LayoutModel",
     "model_module_version": "1.2.0",
     "state": {
      "_view_name": "LayoutView",
      "grid_template_rows": null,
      "right": null,
      "justify_content": null,
      "_view_module": "@jupyter-widgets/base",
      "overflow": null,
      "_model_module_version": "1.2.0",
      "_view_count": null,
      "flex_flow": null,
      "width": null,
      "min_width": null,
      "border": null,
      "align_items": null,
      "bottom": null,
      "_model_module": "@jupyter-widgets/base",
      "top": null,
      "grid_column": null,
      "overflow_y": null,
      "overflow_x": null,
      "grid_auto_flow": null,
      "grid_area": null,
      "grid_template_columns": null,
      "flex": null,
      "_model_name": "LayoutModel",
      "justify_items": null,
      "grid_row": null,
      "max_height": null,
      "align_content": null,
      "visibility": null,
      "align_self": null,
      "height": null,
      "min_height": null,
      "padding": null,
      "grid_auto_rows": null,
      "grid_gap": null,
      "max_width": null,
      "order": null,
      "_view_module_version": "1.2.0",
      "grid_template_areas": null,
      "object_position": null,
      "object_fit": null,
      "grid_auto_columns": null,
      "margin": null,
      "display": null,
      "left": null
     }
    },
    "edeff7f1d9da45b7b0bc4da29e6874ec": {
     "model_module": "@jupyter-widgets/controls",
     "model_name": "DescriptionStyleModel",
     "model_module_version": "1.5.0",
     "state": {
      "_view_name": "StyleView",
      "_model_name": "DescriptionStyleModel",
      "description_width": "",
      "_view_module": "@jupyter-widgets/base",
      "_model_module_version": "1.5.0",
      "_view_count": null,
      "_view_module_version": "1.2.0",
      "_model_module": "@jupyter-widgets/controls"
     }
    },
    "09d9553d47a54b09a0e14f34f4eb0b8b": {
     "model_module": "@jupyter-widgets/base",
     "model_name": "LayoutModel",
     "model_module_version": "1.2.0",
     "state": {
      "_view_name": "LayoutView",
      "grid_template_rows": null,
      "right": null,
      "justify_content": null,
      "_view_module": "@jupyter-widgets/base",
      "overflow": null,
      "_model_module_version": "1.2.0",
      "_view_count": null,
      "flex_flow": null,
      "width": null,
      "min_width": null,
      "border": null,
      "align_items": null,
      "bottom": null,
      "_model_module": "@jupyter-widgets/base",
      "top": null,
      "grid_column": null,
      "overflow_y": null,
      "overflow_x": null,
      "grid_auto_flow": null,
      "grid_area": null,
      "grid_template_columns": null,
      "flex": null,
      "_model_name": "LayoutModel",
      "justify_items": null,
      "grid_row": null,
      "max_height": null,
      "align_content": null,
      "visibility": null,
      "align_self": null,
      "height": null,
      "min_height": null,
      "padding": null,
      "grid_auto_rows": null,
      "grid_gap": null,
      "max_width": null,
      "order": null,
      "_view_module_version": "1.2.0",
      "grid_template_areas": null,
      "object_position": null,
      "object_fit": null,
      "grid_auto_columns": null,
      "margin": null,
      "display": null,
      "left": null
     }
    },
    "2b440bc3c85c4a9483a2b4fe148e684f": {
     "model_module": "@jupyter-widgets/controls",
     "model_name": "HBoxModel",
     "model_module_version": "1.5.0",
     "state": {
      "_view_name": "HBoxView",
      "_dom_classes": [],
      "_model_name": "HBoxModel",
      "_view_module": "@jupyter-widgets/controls",
      "_model_module_version": "1.5.0",
      "_view_count": null,
      "_view_module_version": "1.5.0",
      "box_style": "",
      "layout": "IPY_MODEL_6aed86b9c81f4c3ab4456f275ffe97bf",
      "_model_module": "@jupyter-widgets/controls",
      "children": [
       "IPY_MODEL_70403a183dfa4920828db7372e75cae6",
       "IPY_MODEL_bea1cf3e38e94fa6b6561ac1967c6326",
       "IPY_MODEL_969bb8d2e94a4c929d62eaa1f2b8b394"
      ]
     }
    },
    "6aed86b9c81f4c3ab4456f275ffe97bf": {
     "model_module": "@jupyter-widgets/base",
     "model_name": "LayoutModel",
     "model_module_version": "1.2.0",
     "state": {
      "_view_name": "LayoutView",
      "grid_template_rows": null,
      "right": null,
      "justify_content": null,
      "_view_module": "@jupyter-widgets/base",
      "overflow": null,
      "_model_module_version": "1.2.0",
      "_view_count": null,
      "flex_flow": null,
      "width": null,
      "min_width": null,
      "border": null,
      "align_items": null,
      "bottom": null,
      "_model_module": "@jupyter-widgets/base",
      "top": null,
      "grid_column": null,
      "overflow_y": null,
      "overflow_x": null,
      "grid_auto_flow": null,
      "grid_area": null,
      "grid_template_columns": null,
      "flex": null,
      "_model_name": "LayoutModel",
      "justify_items": null,
      "grid_row": null,
      "max_height": null,
      "align_content": null,
      "visibility": null,
      "align_self": null,
      "height": null,
      "min_height": null,
      "padding": null,
      "grid_auto_rows": null,
      "grid_gap": null,
      "max_width": null,
      "order": null,
      "_view_module_version": "1.2.0",
      "grid_template_areas": null,
      "object_position": null,
      "object_fit": null,
      "grid_auto_columns": null,
      "margin": null,
      "display": null,
      "left": null
     }
    },
    "70403a183dfa4920828db7372e75cae6": {
     "model_module": "@jupyter-widgets/controls",
     "model_name": "HTMLModel",
     "model_module_version": "1.5.0",
     "state": {
      "_view_name": "HTMLView",
      "style": "IPY_MODEL_31d89d2af55d4e8a8b6f86ac7f9ba151",
      "_dom_classes": [],
      "description": "",
      "_model_name": "HTMLModel",
      "placeholder": "​",
      "_view_module": "@jupyter-widgets/controls",
      "_model_module_version": "1.5.0",
      "value": "Downloading: 100%",
      "_view_count": null,
      "_view_module_version": "1.5.0",
      "description_tooltip": null,
      "_model_module": "@jupyter-widgets/controls",
      "layout": "IPY_MODEL_b775e1e37eaf4420b95309ef66f6b5b3"
     }
    },
    "bea1cf3e38e94fa6b6561ac1967c6326": {
     "model_module": "@jupyter-widgets/controls",
     "model_name": "FloatProgressModel",
     "model_module_version": "1.5.0",
     "state": {
      "_view_name": "ProgressView",
      "style": "IPY_MODEL_b64a0eb9092041538ffbee2c6f9a2d93",
      "_dom_classes": [],
      "description": "",
      "_model_name": "FloatProgressModel",
      "bar_style": "success",
      "max": 570,
      "_view_module": "@jupyter-widgets/controls",
      "_model_module_version": "1.5.0",
      "value": 570,
      "_view_count": null,
      "_view_module_version": "1.5.0",
      "orientation": "horizontal",
      "min": 0,
      "description_tooltip": null,
      "_model_module": "@jupyter-widgets/controls",
      "layout": "IPY_MODEL_4ddb88afc6c44a53b17f2c281cd5f081"
     }
    },
    "969bb8d2e94a4c929d62eaa1f2b8b394": {
     "model_module": "@jupyter-widgets/controls",
     "model_name": "HTMLModel",
     "model_module_version": "1.5.0",
     "state": {
      "_view_name": "HTMLView",
      "style": "IPY_MODEL_3897eb763e7e42d6b81c1e33a6d7c190",
      "_dom_classes": [],
      "description": "",
      "_model_name": "HTMLModel",
      "placeholder": "​",
      "_view_module": "@jupyter-widgets/controls",
      "_model_module_version": "1.5.0",
      "value": " 570/570 [00:00&lt;00:00, 14.5kB/s]",
      "_view_count": null,
      "_view_module_version": "1.5.0",
      "description_tooltip": null,
      "_model_module": "@jupyter-widgets/controls",
      "layout": "IPY_MODEL_d7dd81e34b7e467c920f9dc6e8b21811"
     }
    },
    "31d89d2af55d4e8a8b6f86ac7f9ba151": {
     "model_module": "@jupyter-widgets/controls",
     "model_name": "DescriptionStyleModel",
     "model_module_version": "1.5.0",
     "state": {
      "_view_name": "StyleView",
      "_model_name": "DescriptionStyleModel",
      "description_width": "",
      "_view_module": "@jupyter-widgets/base",
      "_model_module_version": "1.5.0",
      "_view_count": null,
      "_view_module_version": "1.2.0",
      "_model_module": "@jupyter-widgets/controls"
     }
    },
    "b775e1e37eaf4420b95309ef66f6b5b3": {
     "model_module": "@jupyter-widgets/base",
     "model_name": "LayoutModel",
     "model_module_version": "1.2.0",
     "state": {
      "_view_name": "LayoutView",
      "grid_template_rows": null,
      "right": null,
      "justify_content": null,
      "_view_module": "@jupyter-widgets/base",
      "overflow": null,
      "_model_module_version": "1.2.0",
      "_view_count": null,
      "flex_flow": null,
      "width": null,
      "min_width": null,
      "border": null,
      "align_items": null,
      "bottom": null,
      "_model_module": "@jupyter-widgets/base",
      "top": null,
      "grid_column": null,
      "overflow_y": null,
      "overflow_x": null,
      "grid_auto_flow": null,
      "grid_area": null,
      "grid_template_columns": null,
      "flex": null,
      "_model_name": "LayoutModel",
      "justify_items": null,
      "grid_row": null,
      "max_height": null,
      "align_content": null,
      "visibility": null,
      "align_self": null,
      "height": null,
      "min_height": null,
      "padding": null,
      "grid_auto_rows": null,
      "grid_gap": null,
      "max_width": null,
      "order": null,
      "_view_module_version": "1.2.0",
      "grid_template_areas": null,
      "object_position": null,
      "object_fit": null,
      "grid_auto_columns": null,
      "margin": null,
      "display": null,
      "left": null
     }
    },
    "b64a0eb9092041538ffbee2c6f9a2d93": {
     "model_module": "@jupyter-widgets/controls",
     "model_name": "ProgressStyleModel",
     "model_module_version": "1.5.0",
     "state": {
      "_view_name": "StyleView",
      "_model_name": "ProgressStyleModel",
      "description_width": "",
      "_view_module": "@jupyter-widgets/base",
      "_model_module_version": "1.5.0",
      "_view_count": null,
      "_view_module_version": "1.2.0",
      "bar_color": null,
      "_model_module": "@jupyter-widgets/controls"
     }
    },
    "4ddb88afc6c44a53b17f2c281cd5f081": {
     "model_module": "@jupyter-widgets/base",
     "model_name": "LayoutModel",
     "model_module_version": "1.2.0",
     "state": {
      "_view_name": "LayoutView",
      "grid_template_rows": null,
      "right": null,
      "justify_content": null,
      "_view_module": "@jupyter-widgets/base",
      "overflow": null,
      "_model_module_version": "1.2.0",
      "_view_count": null,
      "flex_flow": null,
      "width": null,
      "min_width": null,
      "border": null,
      "align_items": null,
      "bottom": null,
      "_model_module": "@jupyter-widgets/base",
      "top": null,
      "grid_column": null,
      "overflow_y": null,
      "overflow_x": null,
      "grid_auto_flow": null,
      "grid_area": null,
      "grid_template_columns": null,
      "flex": null,
      "_model_name": "LayoutModel",
      "justify_items": null,
      "grid_row": null,
      "max_height": null,
      "align_content": null,
      "visibility": null,
      "align_self": null,
      "height": null,
      "min_height": null,
      "padding": null,
      "grid_auto_rows": null,
      "grid_gap": null,
      "max_width": null,
      "order": null,
      "_view_module_version": "1.2.0",
      "grid_template_areas": null,
      "object_position": null,
      "object_fit": null,
      "grid_auto_columns": null,
      "margin": null,
      "display": null,
      "left": null
     }
    },
    "3897eb763e7e42d6b81c1e33a6d7c190": {
     "model_module": "@jupyter-widgets/controls",
     "model_name": "DescriptionStyleModel",
     "model_module_version": "1.5.0",
     "state": {
      "_view_name": "StyleView",
      "_model_name": "DescriptionStyleModel",
      "description_width": "",
      "_view_module": "@jupyter-widgets/base",
      "_model_module_version": "1.5.0",
      "_view_count": null,
      "_view_module_version": "1.2.0",
      "_model_module": "@jupyter-widgets/controls"
     }
    },
    "d7dd81e34b7e467c920f9dc6e8b21811": {
     "model_module": "@jupyter-widgets/base",
     "model_name": "LayoutModel",
     "model_module_version": "1.2.0",
     "state": {
      "_view_name": "LayoutView",
      "grid_template_rows": null,
      "right": null,
      "justify_content": null,
      "_view_module": "@jupyter-widgets/base",
      "overflow": null,
      "_model_module_version": "1.2.0",
      "_view_count": null,
      "flex_flow": null,
      "width": null,
      "min_width": null,
      "border": null,
      "align_items": null,
      "bottom": null,
      "_model_module": "@jupyter-widgets/base",
      "top": null,
      "grid_column": null,
      "overflow_y": null,
      "overflow_x": null,
      "grid_auto_flow": null,
      "grid_area": null,
      "grid_template_columns": null,
      "flex": null,
      "_model_name": "LayoutModel",
      "justify_items": null,
      "grid_row": null,
      "max_height": null,
      "align_content": null,
      "visibility": null,
      "align_self": null,
      "height": null,
      "min_height": null,
      "padding": null,
      "grid_auto_rows": null,
      "grid_gap": null,
      "max_width": null,
      "order": null,
      "_view_module_version": "1.2.0",
      "grid_template_areas": null,
      "object_position": null,
      "object_fit": null,
      "grid_auto_columns": null,
      "margin": null,
      "display": null,
      "left": null
     }
    },
    "d9099f4b14f4411fbba8a4ed41d21c59": {
     "model_module": "@jupyter-widgets/controls",
     "model_name": "HBoxModel",
     "model_module_version": "1.5.0",
     "state": {
      "_view_name": "HBoxView",
      "_dom_classes": [],
      "_model_name": "HBoxModel",
      "_view_module": "@jupyter-widgets/controls",
      "_model_module_version": "1.5.0",
      "_view_count": null,
      "_view_module_version": "1.5.0",
      "box_style": "",
      "layout": "IPY_MODEL_8b50c2625d884a93a22fdaa7cca9edeb",
      "_model_module": "@jupyter-widgets/controls",
      "children": [
       "IPY_MODEL_8dd69b3b5b334036b3d8fc7fceaf4ef3",
       "IPY_MODEL_d7efc729333845dba34b1a67f5ea2aeb",
       "IPY_MODEL_1c410337027a48d0986afe8473fb3b01"
      ]
     }
    },
    "8b50c2625d884a93a22fdaa7cca9edeb": {
     "model_module": "@jupyter-widgets/base",
     "model_name": "LayoutModel",
     "model_module_version": "1.2.0",
     "state": {
      "_view_name": "LayoutView",
      "grid_template_rows": null,
      "right": null,
      "justify_content": null,
      "_view_module": "@jupyter-widgets/base",
      "overflow": null,
      "_model_module_version": "1.2.0",
      "_view_count": null,
      "flex_flow": null,
      "width": null,
      "min_width": null,
      "border": null,
      "align_items": null,
      "bottom": null,
      "_model_module": "@jupyter-widgets/base",
      "top": null,
      "grid_column": null,
      "overflow_y": null,
      "overflow_x": null,
      "grid_auto_flow": null,
      "grid_area": null,
      "grid_template_columns": null,
      "flex": null,
      "_model_name": "LayoutModel",
      "justify_items": null,
      "grid_row": null,
      "max_height": null,
      "align_content": null,
      "visibility": null,
      "align_self": null,
      "height": null,
      "min_height": null,
      "padding": null,
      "grid_auto_rows": null,
      "grid_gap": null,
      "max_width": null,
      "order": null,
      "_view_module_version": "1.2.0",
      "grid_template_areas": null,
      "object_position": null,
      "object_fit": null,
      "grid_auto_columns": null,
      "margin": null,
      "display": null,
      "left": null
     }
    },
    "8dd69b3b5b334036b3d8fc7fceaf4ef3": {
     "model_module": "@jupyter-widgets/controls",
     "model_name": "HTMLModel",
     "model_module_version": "1.5.0",
     "state": {
      "_view_name": "HTMLView",
      "style": "IPY_MODEL_13ca91e3144c42bcad3703ac620569e1",
      "_dom_classes": [],
      "description": "",
      "_model_name": "HTMLModel",
      "placeholder": "​",
      "_view_module": "@jupyter-widgets/controls",
      "_model_module_version": "1.5.0",
      "value": "Downloading: 100%",
      "_view_count": null,
      "_view_module_version": "1.5.0",
      "description_tooltip": null,
      "_model_module": "@jupyter-widgets/controls",
      "layout": "IPY_MODEL_f3845d980a634b59a042b274f78fc0b7"
     }
    },
    "d7efc729333845dba34b1a67f5ea2aeb": {
     "model_module": "@jupyter-widgets/controls",
     "model_name": "FloatProgressModel",
     "model_module_version": "1.5.0",
     "state": {
      "_view_name": "ProgressView",
      "style": "IPY_MODEL_41a97d71c7a04285974654e2cf9c71e6",
      "_dom_classes": [],
      "description": "",
      "_model_name": "FloatProgressModel",
      "bar_style": "success",
      "max": 440473133,
      "_view_module": "@jupyter-widgets/controls",
      "_model_module_version": "1.5.0",
      "value": 440473133,
      "_view_count": null,
      "_view_module_version": "1.5.0",
      "orientation": "horizontal",
      "min": 0,
      "description_tooltip": null,
      "_model_module": "@jupyter-widgets/controls",
      "layout": "IPY_MODEL_66d41fb6ebff4835843d0695003eadd9"
     }
    },
    "1c410337027a48d0986afe8473fb3b01": {
     "model_module": "@jupyter-widgets/controls",
     "model_name": "HTMLModel",
     "model_module_version": "1.5.0",
     "state": {
      "_view_name": "HTMLView",
      "style": "IPY_MODEL_48622b298b0a4f09b5e84a4004467d19",
      "_dom_classes": [],
      "description": "",
      "_model_name": "HTMLModel",
      "placeholder": "​",
      "_view_module": "@jupyter-widgets/controls",
      "_model_module_version": "1.5.0",
      "value": " 420M/420M [00:15&lt;00:00, 29.8MB/s]",
      "_view_count": null,
      "_view_module_version": "1.5.0",
      "description_tooltip": null,
      "_model_module": "@jupyter-widgets/controls",
      "layout": "IPY_MODEL_959f9e3dd3774f32976789b932756e98"
     }
    },
    "13ca91e3144c42bcad3703ac620569e1": {
     "model_module": "@jupyter-widgets/controls",
     "model_name": "DescriptionStyleModel",
     "model_module_version": "1.5.0",
     "state": {
      "_view_name": "StyleView",
      "_model_name": "DescriptionStyleModel",
      "description_width": "",
      "_view_module": "@jupyter-widgets/base",
      "_model_module_version": "1.5.0",
      "_view_count": null,
      "_view_module_version": "1.2.0",
      "_model_module": "@jupyter-widgets/controls"
     }
    },
    "f3845d980a634b59a042b274f78fc0b7": {
     "model_module": "@jupyter-widgets/base",
     "model_name": "LayoutModel",
     "model_module_version": "1.2.0",
     "state": {
      "_view_name": "LayoutView",
      "grid_template_rows": null,
      "right": null,
      "justify_content": null,
      "_view_module": "@jupyter-widgets/base",
      "overflow": null,
      "_model_module_version": "1.2.0",
      "_view_count": null,
      "flex_flow": null,
      "width": null,
      "min_width": null,
      "border": null,
      "align_items": null,
      "bottom": null,
      "_model_module": "@jupyter-widgets/base",
      "top": null,
      "grid_column": null,
      "overflow_y": null,
      "overflow_x": null,
      "grid_auto_flow": null,
      "grid_area": null,
      "grid_template_columns": null,
      "flex": null,
      "_model_name": "LayoutModel",
      "justify_items": null,
      "grid_row": null,
      "max_height": null,
      "align_content": null,
      "visibility": null,
      "align_self": null,
      "height": null,
      "min_height": null,
      "padding": null,
      "grid_auto_rows": null,
      "grid_gap": null,
      "max_width": null,
      "order": null,
      "_view_module_version": "1.2.0",
      "grid_template_areas": null,
      "object_position": null,
      "object_fit": null,
      "grid_auto_columns": null,
      "margin": null,
      "display": null,
      "left": null
     }
    },
    "41a97d71c7a04285974654e2cf9c71e6": {
     "model_module": "@jupyter-widgets/controls",
     "model_name": "ProgressStyleModel",
     "model_module_version": "1.5.0",
     "state": {
      "_view_name": "StyleView",
      "_model_name": "ProgressStyleModel",
      "description_width": "",
      "_view_module": "@jupyter-widgets/base",
      "_model_module_version": "1.5.0",
      "_view_count": null,
      "_view_module_version": "1.2.0",
      "bar_color": null,
      "_model_module": "@jupyter-widgets/controls"
     }
    },
    "66d41fb6ebff4835843d0695003eadd9": {
     "model_module": "@jupyter-widgets/base",
     "model_name": "LayoutModel",
     "model_module_version": "1.2.0",
     "state": {
      "_view_name": "LayoutView",
      "grid_template_rows": null,
      "right": null,
      "justify_content": null,
      "_view_module": "@jupyter-widgets/base",
      "overflow": null,
      "_model_module_version": "1.2.0",
      "_view_count": null,
      "flex_flow": null,
      "width": null,
      "min_width": null,
      "border": null,
      "align_items": null,
      "bottom": null,
      "_model_module": "@jupyter-widgets/base",
      "top": null,
      "grid_column": null,
      "overflow_y": null,
      "overflow_x": null,
      "grid_auto_flow": null,
      "grid_area": null,
      "grid_template_columns": null,
      "flex": null,
      "_model_name": "LayoutModel",
      "justify_items": null,
      "grid_row": null,
      "max_height": null,
      "align_content": null,
      "visibility": null,
      "align_self": null,
      "height": null,
      "min_height": null,
      "padding": null,
      "grid_auto_rows": null,
      "grid_gap": null,
      "max_width": null,
      "order": null,
      "_view_module_version": "1.2.0",
      "grid_template_areas": null,
      "object_position": null,
      "object_fit": null,
      "grid_auto_columns": null,
      "margin": null,
      "display": null,
      "left": null
     }
    },
    "48622b298b0a4f09b5e84a4004467d19": {
     "model_module": "@jupyter-widgets/controls",
     "model_name": "DescriptionStyleModel",
     "model_module_version": "1.5.0",
     "state": {
      "_view_name": "StyleView",
      "_model_name": "DescriptionStyleModel",
      "description_width": "",
      "_view_module": "@jupyter-widgets/base",
      "_model_module_version": "1.5.0",
      "_view_count": null,
      "_view_module_version": "1.2.0",
      "_model_module": "@jupyter-widgets/controls"
     }
    },
    "959f9e3dd3774f32976789b932756e98": {
     "model_module": "@jupyter-widgets/base",
     "model_name": "LayoutModel",
     "model_module_version": "1.2.0",
     "state": {
      "_view_name": "LayoutView",
      "grid_template_rows": null,
      "right": null,
      "justify_content": null,
      "_view_module": "@jupyter-widgets/base",
      "overflow": null,
      "_model_module_version": "1.2.0",
      "_view_count": null,
      "flex_flow": null,
      "width": null,
      "min_width": null,
      "border": null,
      "align_items": null,
      "bottom": null,
      "_model_module": "@jupyter-widgets/base",
      "top": null,
      "grid_column": null,
      "overflow_y": null,
      "overflow_x": null,
      "grid_auto_flow": null,
      "grid_area": null,
      "grid_template_columns": null,
      "flex": null,
      "_model_name": "LayoutModel",
      "justify_items": null,
      "grid_row": null,
      "max_height": null,
      "align_content": null,
      "visibility": null,
      "align_self": null,
      "height": null,
      "min_height": null,
      "padding": null,
      "grid_auto_rows": null,
      "grid_gap": null,
      "max_width": null,
      "order": null,
      "_view_module_version": "1.2.0",
      "grid_template_areas": null,
      "object_position": null,
      "object_fit": null,
      "grid_auto_columns": null,
      "margin": null,
      "display": null,
      "left": null
     }
    }
   }
  }
 },
 "cells": [
  {
   "cell_type": "code",
   "metadata": {
    "colab": {
     "base_uri": "https://localhost:8080/"
    },
    "id": "Fnj00l4NEXqr",
    "executionInfo": {
     "status": "ok",
     "timestamp": 1639155045086,
     "user_tz": -60,
     "elapsed": 22345,
     "user": {
      "displayName": "WENJIE JIN",
      "photoUrl": "https://lh3.googleusercontent.com/a/default-user=s64",
      "userId": "02701011265521055522"
     }
    },
    "outputId": "8f9c94ef-ac57-427a-81b5-d5a61a887deb"
   },
   "source": [
    "#Mount Google drive\n",
    "from google.colab import drive\n",
    "drive.mount('/content/drive')"
   ],
   "execution_count": 1,
   "outputs": [
    {
     "output_type": "stream",
     "name": "stdout",
     "text": [
      "Mounted at /content/drive\n"
     ]
    }
   ]
  },
  {
   "cell_type": "code",
   "metadata": {
    "colab": {
     "base_uri": "https://localhost:8080/"
    },
    "id": "sT2LcFrZEbba",
    "executionInfo": {
     "status": "ok",
     "timestamp": 1639155045899,
     "user_tz": -60,
     "elapsed": 815,
     "user": {
      "displayName": "WENJIE JIN",
      "photoUrl": "https://lh3.googleusercontent.com/a/default-user=s64",
      "userId": "02701011265521055522"
     }
    },
    "outputId": "f059332b-0621-46e9-9bfa-1fd7a87671d2"
   },
   "source": [
    "#change current working directory\n",
    "%cd /content/drive/Shareddrives/Aplicacion inteligencia de la web/Lab2"
   ],
   "execution_count": 2,
   "outputs": [
    {
     "output_type": "stream",
     "name": "stdout",
     "text": [
      "/content/drive/Shareddrives/Aplicacion inteligencia de la web/Lab2\n"
     ]
    }
   ]
  },
  {
   "cell_type": "code",
   "metadata": {
    "colab": {
     "base_uri": "https://localhost:8080/"
    },
    "id": "3kusU4T3ErvL",
    "executionInfo": {
     "status": "ok",
     "timestamp": 1639155060412,
     "user_tz": -60,
     "elapsed": 14515,
     "user": {
      "displayName": "WENJIE JIN",
      "photoUrl": "https://lh3.googleusercontent.com/a/default-user=s64",
      "userId": "02701011265521055522"
     }
    },
    "outputId": "a536b7f3-a286-4a52-e8b1-1e2aac69b65c"
   },
   "source": [
    "!pip install transformers\n",
    "!pip install seqeval"
   ],
   "execution_count": 3,
   "outputs": [
    {
     "output_type": "stream",
     "name": "stdout",
     "text": [
      "Collecting transformers\n",
      "  Downloading transformers-4.13.0-py3-none-any.whl (3.3 MB)\n",
      "\u001B[K     |████████████████████████████████| 3.3 MB 5.4 MB/s \n",
      "\u001B[?25hCollecting pyyaml>=5.1\n",
      "  Downloading PyYAML-6.0-cp37-cp37m-manylinux_2_5_x86_64.manylinux1_x86_64.manylinux_2_12_x86_64.manylinux2010_x86_64.whl (596 kB)\n",
      "\u001B[K     |████████████████████████████████| 596 kB 48.6 MB/s \n",
      "\u001B[?25hCollecting huggingface-hub<1.0,>=0.1.0\n",
      "  Downloading huggingface_hub-0.2.1-py3-none-any.whl (61 kB)\n",
      "\u001B[K     |████████████████████████████████| 61 kB 556 kB/s \n",
      "\u001B[?25hRequirement already satisfied: filelock in /usr/local/lib/python3.7/dist-packages (from transformers) (3.4.0)\n",
      "Collecting tokenizers<0.11,>=0.10.1\n",
      "  Downloading tokenizers-0.10.3-cp37-cp37m-manylinux_2_5_x86_64.manylinux1_x86_64.manylinux_2_12_x86_64.manylinux2010_x86_64.whl (3.3 MB)\n",
      "\u001B[K     |████████████████████████████████| 3.3 MB 35.8 MB/s \n",
      "\u001B[?25hRequirement already satisfied: packaging>=20.0 in /usr/local/lib/python3.7/dist-packages (from transformers) (21.3)\n",
      "Collecting sacremoses\n",
      "  Downloading sacremoses-0.0.46-py3-none-any.whl (895 kB)\n",
      "\u001B[K     |████████████████████████████████| 895 kB 38.8 MB/s \n",
      "\u001B[?25hRequirement already satisfied: importlib-metadata in /usr/local/lib/python3.7/dist-packages (from transformers) (4.8.2)\n",
      "Requirement already satisfied: tqdm>=4.27 in /usr/local/lib/python3.7/dist-packages (from transformers) (4.62.3)\n",
      "Requirement already satisfied: regex!=2019.12.17 in /usr/local/lib/python3.7/dist-packages (from transformers) (2019.12.20)\n",
      "Requirement already satisfied: requests in /usr/local/lib/python3.7/dist-packages (from transformers) (2.23.0)\n",
      "Requirement already satisfied: numpy>=1.17 in /usr/local/lib/python3.7/dist-packages (from transformers) (1.19.5)\n",
      "Requirement already satisfied: typing-extensions>=3.7.4.3 in /usr/local/lib/python3.7/dist-packages (from huggingface-hub<1.0,>=0.1.0->transformers) (3.10.0.2)\n",
      "Requirement already satisfied: pyparsing!=3.0.5,>=2.0.2 in /usr/local/lib/python3.7/dist-packages (from packaging>=20.0->transformers) (3.0.6)\n",
      "Requirement already satisfied: zipp>=0.5 in /usr/local/lib/python3.7/dist-packages (from importlib-metadata->transformers) (3.6.0)\n",
      "Requirement already satisfied: idna<3,>=2.5 in /usr/local/lib/python3.7/dist-packages (from requests->transformers) (2.10)\n",
      "Requirement already satisfied: urllib3!=1.25.0,!=1.25.1,<1.26,>=1.21.1 in /usr/local/lib/python3.7/dist-packages (from requests->transformers) (1.24.3)\n",
      "Requirement already satisfied: certifi>=2017.4.17 in /usr/local/lib/python3.7/dist-packages (from requests->transformers) (2021.10.8)\n",
      "Requirement already satisfied: chardet<4,>=3.0.2 in /usr/local/lib/python3.7/dist-packages (from requests->transformers) (3.0.4)\n",
      "Requirement already satisfied: click in /usr/local/lib/python3.7/dist-packages (from sacremoses->transformers) (7.1.2)\n",
      "Requirement already satisfied: joblib in /usr/local/lib/python3.7/dist-packages (from sacremoses->transformers) (1.1.0)\n",
      "Requirement already satisfied: six in /usr/local/lib/python3.7/dist-packages (from sacremoses->transformers) (1.15.0)\n",
      "Installing collected packages: pyyaml, tokenizers, sacremoses, huggingface-hub, transformers\n",
      "  Attempting uninstall: pyyaml\n",
      "    Found existing installation: PyYAML 3.13\n",
      "    Uninstalling PyYAML-3.13:\n",
      "      Successfully uninstalled PyYAML-3.13\n",
      "Successfully installed huggingface-hub-0.2.1 pyyaml-6.0 sacremoses-0.0.46 tokenizers-0.10.3 transformers-4.13.0\n",
      "Collecting seqeval\n",
      "  Downloading seqeval-1.2.2.tar.gz (43 kB)\n",
      "\u001B[K     |████████████████████████████████| 43 kB 1.2 MB/s \n",
      "\u001B[?25hRequirement already satisfied: numpy>=1.14.0 in /usr/local/lib/python3.7/dist-packages (from seqeval) (1.19.5)\n",
      "Requirement already satisfied: scikit-learn>=0.21.3 in /usr/local/lib/python3.7/dist-packages (from seqeval) (1.0.1)\n",
      "Requirement already satisfied: joblib>=0.11 in /usr/local/lib/python3.7/dist-packages (from scikit-learn>=0.21.3->seqeval) (1.1.0)\n",
      "Requirement already satisfied: threadpoolctl>=2.0.0 in /usr/local/lib/python3.7/dist-packages (from scikit-learn>=0.21.3->seqeval) (3.0.0)\n",
      "Requirement already satisfied: scipy>=1.1.0 in /usr/local/lib/python3.7/dist-packages (from scikit-learn>=0.21.3->seqeval) (1.4.1)\n",
      "Building wheels for collected packages: seqeval\n",
      "  Building wheel for seqeval (setup.py) ... \u001B[?25l\u001B[?25hdone\n",
      "  Created wheel for seqeval: filename=seqeval-1.2.2-py3-none-any.whl size=16181 sha256=85067ec692c34e76c50d0079fb70889b21585346867006ed8cbd6d405294e8d8\n",
      "  Stored in directory: /root/.cache/pip/wheels/05/96/ee/7cac4e74f3b19e3158dce26a20a1c86b3533c43ec72a549fd7\n",
      "Successfully built seqeval\n",
      "Installing collected packages: seqeval\n",
      "Successfully installed seqeval-1.2.2\n"
     ]
    }
   ]
  },
  {
   "cell_type": "code",
   "metadata": {
    "colab": {
     "base_uri": "https://localhost:8080/"
    },
    "id": "2lSwdoUoE2Vd",
    "executionInfo": {
     "status": "ok",
     "timestamp": 1639155140897,
     "user_tz": -60,
     "elapsed": 234,
     "user": {
      "displayName": "WENJIE JIN",
      "photoUrl": "https://lh3.googleusercontent.com/a/default-user=s64",
      "userId": "02701011265521055522"
     }
    },
    "outputId": "993ae429-f6ac-4e56-f188-4cb4b2e1b318"
   },
   "source": [
    "import pandas as pd\n",
    "import numpy as np\n",
    "from sklearn.metrics import accuracy_score\n",
    "import torch\n",
    "from torch.utils.data import Dataset, DataLoader\n",
    "from transformers import BertTokenizerFast, BertConfig, BertForTokenClassification\n",
    "from seqeval.metrics import classification_report\n",
    "\n",
    "import nltk\n",
    "from pathlib import Path\n",
    "import matplotlib.pyplot as plt\n",
    "from sklearn.model_selection import train_test_split\n",
    "import xml.etree.ElementTree as ET\n",
    "import json\n",
    "\n",
    "from nltk import word_tokenize\n",
    "from tqdm import tqdm\n",
    "import warnings\n",
    "warnings.filterwarnings('ignore')\n",
    "%matplotlib inline\n",
    "\n",
    "nltk.download('punkt')"
   ],
   "execution_count": 5,
   "outputs": [
    {
     "output_type": "stream",
     "name": "stdout",
     "text": [
      "[nltk_data] Downloading package punkt to /root/nltk_data...\n",
      "[nltk_data]   Package punkt is already up-to-date!\n"
     ]
    },
    {
     "output_type": "execute_result",
     "data": {
      "text/plain": [
       "True"
      ]
     },
     "metadata": {},
     "execution_count": 5
    }
   ]
  },
  {
   "cell_type": "code",
   "metadata": {
    "id": "sxRvMSFMftUg",
    "executionInfo": {
     "status": "ok",
     "timestamp": 1639155141952,
     "user_tz": -60,
     "elapsed": 2,
     "user": {
      "displayName": "WENJIE JIN",
      "photoUrl": "https://lh3.googleusercontent.com/a/default-user=s64",
      "userId": "02701011265521055522"
     }
    }
   },
   "source": [
    "BERT_MODEL_NAME = 'bert-base-uncased'\n",
    "DATASET_FILEPATH = './events/aviation.txt'\n",
    "\n",
    "\n",
    "TRAIN_BATCH_SIZE = 4\n",
    "VALID_BATCH_SIZE = 4\n",
    "EPOCHS = 35\n",
    "LEARNING_RATE = 1e-05"
   ],
   "execution_count": 6,
   "outputs": []
  },
  {
   "cell_type": "code",
   "metadata": {
    "colab": {
     "base_uri": "https://localhost:8080/"
    },
    "id": "CSf4hyiueqwS",
    "executionInfo": {
     "status": "ok",
     "timestamp": 1639155142573,
     "user_tz": -60,
     "elapsed": 2,
     "user": {
      "displayName": "WENJIE JIN",
      "photoUrl": "https://lh3.googleusercontent.com/a/default-user=s64",
      "userId": "02701011265521055522"
     }
    },
    "outputId": "3c36a390-96ed-42e4-c432-2d3add4f721f"
   },
   "source": [
    "from torch import cuda\n",
    "device = 'cuda' if cuda.is_available() else 'cpu'\n",
    "print(device)"
   ],
   "execution_count": 7,
   "outputs": [
    {
     "output_type": "stream",
     "name": "stdout",
     "text": [
      "cuda\n"
     ]
    }
   ]
  },
  {
   "cell_type": "markdown",
   "metadata": {
    "id": "zPitToh8n5tm"
   },
   "source": [
    "## 1. Transform the CONCISUS event files to BIO format ##"
   ]
  },
  {
   "cell_type": "markdown",
   "metadata": {
    "id": "f8CdTgbOotzQ"
   },
   "source": [
    "### Transform XML to BIO dict format ###"
   ]
  },
  {
   "cell_type": "code",
   "metadata": {
    "id": "BrFLR_FzE4Dz",
    "executionInfo": {
     "status": "ok",
     "timestamp": 1639155244290,
     "user_tz": -60,
     "elapsed": 215,
     "user": {
      "displayName": "WENJIE JIN",
      "photoUrl": "https://lh3.googleusercontent.com/a/default-user=s64",
      "userId": "02701011265521055522"
     }
    }
   },
   "source": [
    "# obtain all xml files to process\n",
    "def get_all_xml_files(basepath):\n",
    "    basepath = Path(basepath)\n",
    "    return sorted(list(basepath.glob('avion-*.xml')))\n",
    "\n",
    "# process one file returning a list of sentences\n",
    "#Procesamos el texto y lo convertimos a diccionario\n",
    "def xml_to_dict(filepath):\n",
    "    # extract each xml element into dictionary\n",
    "    tree = ET.parse(filepath)\n",
    "    root = tree.getroot()\n",
    "    sentences = []\n",
    "    count_h = 0\n",
    "    sec_num = 0\n",
    "    #boleano para indicar si hemos encontrado la seccion H1\n",
    "    #De esta manera evitamos errores en la lectura del texto\n",
    "    for id, element in enumerate(root.iter()):\n",
    "      if element.text is not None:\n",
    "        words = element.text.split()\n",
    "        for i in range(len(words)):\n",
    "          if i == 0:\n",
    "            sentences.append(tuple([words[i], \"B-\"+element.tag]))\n",
    "          else:\n",
    "            sentences.append(tuple([words[i], \"I-\"+element.tag]))\n",
    "      \n",
    "      if element.tail is not None:\n",
    "        words = element.tail.split()\n",
    "        for i in range(len(words)):\n",
    "            sentences.append(tuple([words[i], \"O\"]))\n",
    "      \n",
    "\n",
    "    return sentences\n",
    "  "
   ],
   "execution_count": 8,
   "outputs": []
  },
  {
   "cell_type": "code",
   "metadata": {
    "id": "NK3XXHbNFVcu",
    "executionInfo": {
     "status": "ok",
     "timestamp": 1639155252359,
     "user_tz": -60,
     "elapsed": 2003,
     "user": {
      "displayName": "WENJIE JIN",
      "photoUrl": "https://lh3.googleusercontent.com/a/default-user=s64",
      "userId": "02701011265521055522"
     }
    }
   },
   "source": [
    "# Get all XML convert to Dict\n",
    "filepaths = get_all_xml_files('./concisus')\n",
    "sentences = [xml_to_dict(file) for file in filepaths]\n"
   ],
   "execution_count": 9,
   "outputs": []
  },
  {
   "cell_type": "code",
   "source": [
    ""
   ],
   "metadata": {
    "id": "mrqZ95BqrIqz",
    "executionInfo": {
     "status": "ok",
     "timestamp": 1639155253592,
     "user_tz": -60,
     "elapsed": 222,
     "user": {
      "displayName": "WENJIE JIN",
      "photoUrl": "https://lh3.googleusercontent.com/a/default-user=s64",
      "userId": "02701011265521055522"
     }
    }
   },
   "execution_count": 9,
   "outputs": []
  },
  {
   "cell_type": "markdown",
   "metadata": {
    "id": "wMgGx30zozRl"
   },
   "source": [
    "### Save Dict to txt file ###"
   ]
  },
  {
   "cell_type": "code",
   "metadata": {
    "id": "H3IW5H11hq-P",
    "executionInfo": {
     "status": "ok",
     "timestamp": 1639155255537,
     "user_tz": -60,
     "elapsed": 540,
     "user": {
      "displayName": "WENJIE JIN",
      "photoUrl": "https://lh3.googleusercontent.com/a/default-user=s64",
      "userId": "02701011265521055522"
     }
    }
   },
   "source": [
    "# Save all xml into a txt file in BIO format.\n",
    "file2write=open(DATASET_FILEPATH,'w')\n",
    "for sentence in sentences:\n",
    "  for element in sentence:\n",
    "    file2write.write(\"{}\\t{}\\n\".format(element[0], element[1]))\n",
    "  file2write.write(\"\\n\")\n",
    "file2write.close()"
   ],
   "execution_count": 10,
   "outputs": []
  },
  {
   "cell_type": "markdown",
   "metadata": {
    "id": "AUP5hjFTpskF"
   },
   "source": [
    "### Read Sentences from txt file ###"
   ]
  },
  {
   "cell_type": "code",
   "metadata": {
    "colab": {
     "base_uri": "https://localhost:8080/"
    },
    "id": "eYnLX_83i4ft",
    "executionInfo": {
     "status": "ok",
     "timestamp": 1639155259075,
     "user_tz": -60,
     "elapsed": 256,
     "user": {
      "displayName": "WENJIE JIN",
      "photoUrl": "https://lh3.googleusercontent.com/a/default-user=s64",
      "userId": "02701011265521055522"
     }
    },
    "outputId": "5e1d8a44-3a6b-4800-fbdb-124461965538"
   },
   "source": [
    "def yield_lines(filepath):\n",
    "    with Path(filepath).open('r') as f:\n",
    "        for line in f:\n",
    "            yield line.strip('\\n')\n",
    "            \n",
    "\n",
    "def read_file(filepath):\n",
    "    docs = []\n",
    "    doc = []\n",
    "    for line in yield_lines(filepath):\n",
    "        if len(line) == 0 and len(doc) > 0: # reaches empty line\n",
    "          docs.append(doc)\n",
    "          doc = []\n",
    "        else:\n",
    "          # for tag in ['B-Perpetrator', 'I-Perpetrator', 'I-Fatalities', 'I-Place', 'B-Injured']: # remove tags\n",
    "          #     line = line.replace(tag, 'O')\n",
    "          doc.append(tuple(line.split('\\t')))\n",
    "\n",
    "    return docs\n",
    "\n",
    "# Read sentences from txt file.     \n",
    "sentences = read_file(DATASET_FILEPATH)\n",
    "sentences[0]"
   ],
   "execution_count": 11,
   "outputs": [
    {
     "output_type": "execute_result",
     "data": {
      "text/plain": [
       "[('2009', 'B-Year'),\n",
       " ('June', 'B-DateOfAccident'),\n",
       " ('1', 'I-DateOfAccident'),\n",
       " ('?', 'O'),\n",
       " ('Air', 'B-Airline'),\n",
       " ('France', 'I-Airline'),\n",
       " ('Flight', 'B-FlightNumber'),\n",
       " ('447', 'I-FlightNumber'),\n",
       " (',', 'O'),\n",
       " ('an', 'O'),\n",
       " ('Airbus', 'B-TypeOfAircraft'),\n",
       " ('A330-200', 'I-TypeOfAircraft'),\n",
       " ('flying', 'O'),\n",
       " ('from', 'O'),\n",
       " ('Rio', 'B-Origin'),\n",
       " ('de', 'I-Origin'),\n",
       " ('Janeiro,', 'I-Origin'),\n",
       " ('Brazil', 'I-Origin'),\n",
       " ('to', 'O'),\n",
       " ('Paris,', 'B-Destination'),\n",
       " ('France', 'I-Destination'),\n",
       " (',', 'O'),\n",
       " ('crashes', 'B-TypeOfAccident'),\n",
       " ('in', 'O'),\n",
       " ('the', 'O'),\n",
       " ('Atlantic', 'B-Place'),\n",
       " ('Ocean', 'I-Place'),\n",
       " ('killing', 'O'),\n",
       " ('all', 'O'),\n",
       " ('228', 'B-NumberOfVictims'),\n",
       " ('occupants,', 'O'),\n",
       " ('including', 'O'),\n",
       " ('12', 'B-Tripulation'),\n",
       " ('crew;', 'O'),\n",
       " ('bodies', 'O'),\n",
       " ('and', 'O'),\n",
       " ('aircraft', 'O'),\n",
       " ('debris', 'O'),\n",
       " ('are', 'O'),\n",
       " ('not', 'O'),\n",
       " ('recovered', 'O'),\n",
       " ('until', 'O'),\n",
       " ('several', 'O'),\n",
       " ('days', 'O'),\n",
       " ('later.', 'O')]"
      ]
     },
     "metadata": {},
     "execution_count": 11
    }
   ]
  },
  {
   "cell_type": "markdown",
   "metadata": {
    "id": "-ZrS6XxZoGHX"
   },
   "source": [
    "## 2. Adaptation of system to our domain ##"
   ]
  },
  {
   "cell_type": "code",
   "metadata": {
    "colab": {
     "base_uri": "https://localhost:8080/"
    },
    "id": "h4r-6nBebIk6",
    "executionInfo": {
     "status": "ok",
     "timestamp": 1639155267107,
     "user_tz": -60,
     "elapsed": 209,
     "user": {
      "displayName": "WENJIE JIN",
      "photoUrl": "https://lh3.googleusercontent.com/a/default-user=s64",
      "userId": "02701011265521055522"
     }
    },
    "outputId": "5afcc751-86e7-46b3-afac-cc9f061c48f8"
   },
   "source": [
    "# building X, y\n",
    "X = [[word for word, _ in sentence] for sentence in sentences]\n",
    "y = [[tag for _, tag in sentence] for sentence in sentences]\n",
    "\n",
    "# splitting data from training, validation, and testing\n",
    "X_train, X_test, y_train, y_test = train_test_split(X, y, test_size=0.2, random_state=42) \n",
    "X_valid, X_test, y_valid, y_test = train_test_split(X_test, y_test, test_size=0.5, random_state=42) \n",
    "\n",
    "print(\"X[0]:\", X[0])\n",
    "print(\"y[0]:\", y[0])\n",
    "\n",
    "print(\"Size X_train: \", len(X_train))\n",
    "print(\"Size X_valid: \", len(X_valid))\n",
    "print(\"Size X_test: \", len(X_test))"
   ],
   "execution_count": 12,
   "outputs": [
    {
     "output_type": "stream",
     "name": "stdout",
     "text": [
      "X[0]: ['2009', 'June', '1', '?', 'Air', 'France', 'Flight', '447', ',', 'an', 'Airbus', 'A330-200', 'flying', 'from', 'Rio', 'de', 'Janeiro,', 'Brazil', 'to', 'Paris,', 'France', ',', 'crashes', 'in', 'the', 'Atlantic', 'Ocean', 'killing', 'all', '228', 'occupants,', 'including', '12', 'crew;', 'bodies', 'and', 'aircraft', 'debris', 'are', 'not', 'recovered', 'until', 'several', 'days', 'later.']\n",
      "y[0]: ['B-Year', 'B-DateOfAccident', 'I-DateOfAccident', 'O', 'B-Airline', 'I-Airline', 'B-FlightNumber', 'I-FlightNumber', 'O', 'O', 'B-TypeOfAircraft', 'I-TypeOfAircraft', 'O', 'O', 'B-Origin', 'I-Origin', 'I-Origin', 'I-Origin', 'O', 'B-Destination', 'I-Destination', 'O', 'B-TypeOfAccident', 'O', 'O', 'B-Place', 'I-Place', 'O', 'O', 'B-NumberOfVictims', 'O', 'O', 'B-Tripulation', 'O', 'O', 'O', 'O', 'O', 'O', 'O', 'O', 'O', 'O', 'O', 'O']\n",
      "Size X_train:  24\n",
      "Size X_valid:  3\n",
      "Size X_test:  4\n"
     ]
    }
   ]
  },
  {
   "cell_type": "markdown",
   "metadata": {
    "id": "fBWI1xNTogx2"
   },
   "source": [
    "### Data analysis ###"
   ]
  },
  {
   "cell_type": "code",
   "metadata": {
    "colab": {
     "base_uri": "https://localhost:8080/"
    },
    "id": "xoOR6SW4hxqV",
    "executionInfo": {
     "status": "ok",
     "timestamp": 1639155273530,
     "user_tz": -60,
     "elapsed": 223,
     "user": {
      "displayName": "WENJIE JIN",
      "photoUrl": "https://lh3.googleusercontent.com/a/default-user=s64",
      "userId": "02701011265521055522"
     }
    },
    "outputId": "f0d9930c-5a83-4f43-c21a-b630442a71a9"
   },
   "source": [
    "from collections import Counter\n",
    "print(\"Number of documents:\", len(sentences))\n",
    "print(\"Frequency\")\n",
    "counter = sorted(Counter([tag for sentence in sentences for _, tag in sentence]).items(), key=lambda x: x[1], reverse=True)\n",
    "for tag, val in counter:\n",
    "    print(f'{tag:20} {val}')\n",
    "    \n",
    "print(\"\\nEach tag appears in number of documents\")\n",
    "docs = {}\n",
    "for i, sentence in enumerate(sentences):\n",
    "    for _, tag in sentence:\n",
    "        if tag not in docs:\n",
    "            docs[(i, tag)] = 1\n",
    "        else:\n",
    "            docs[(i, tag)] += 1\n",
    "counter = Counter([tag for i, tag in docs])\n",
    "for tag in counter:\n",
    "  print(f'{tag:20} {counter[tag]}') "
   ],
   "execution_count": 13,
   "outputs": [
    {
     "output_type": "stream",
     "name": "stdout",
     "text": [
      "Number of documents: 31\n",
      "Frequency\n",
      "O                    729\n",
      "I-Place              78\n",
      "I-Cause              45\n",
      "I-TypeOfAircraft     34\n",
      "B-TypeOfAircraft     31\n",
      "B-Year               30\n",
      "B-Airline            30\n",
      "B-FlightNumber       30\n",
      "I-FlightNumber       30\n",
      "B-DateOfAccident     29\n",
      "I-Airline            29\n",
      "I-DateOfAccident     27\n",
      "B-TypeOfAccident     27\n",
      "B-Place              27\n",
      "B-NumberOfVictims    22\n",
      "I-Origin             15\n",
      "I-Destination        13\n",
      "B-Cause              13\n",
      "I-TypeOfAccident     10\n",
      "B-Survivors          10\n",
      "B-Passenger          9\n",
      "B-Destination        7\n",
      "B-Tripulation        6\n",
      "B-Origin             5\n",
      "I-Passenger          1\n",
      "\n",
      "Each tag appears in number of documents\n",
      "B-Year               30\n",
      "B-DateOfAccident     29\n",
      "I-DateOfAccident     27\n",
      "O                    31\n",
      "B-Airline            28\n",
      "I-Airline            23\n",
      "B-FlightNumber       28\n",
      "I-FlightNumber       28\n",
      "B-TypeOfAircraft     28\n",
      "I-TypeOfAircraft     27\n",
      "B-Origin             5\n",
      "I-Origin             5\n",
      "B-Destination        7\n",
      "I-Destination        6\n",
      "B-TypeOfAccident     27\n",
      "B-Place              26\n",
      "I-Place              24\n",
      "B-NumberOfVictims    21\n",
      "B-Tripulation        6\n",
      "I-TypeOfAccident     6\n",
      "B-Cause              13\n",
      "I-Cause              11\n",
      "B-Survivors          10\n",
      "B-Passenger          9\n",
      "I-Passenger          1\n"
     ]
    }
   ]
  },
  {
   "cell_type": "markdown",
   "metadata": {
    "id": "_anbTKG8hRL4"
   },
   "source": [
    "### Data analisis and Initialize Bert tokenizer ###"
   ]
  },
  {
   "cell_type": "code",
   "metadata": {
    "colab": {
     "base_uri": "https://localhost:8080/",
     "height": 252,
     "referenced_widgets": [
      "01593b3ecd7d4aafa443257fceeb167e",
      "d48e2b61a7db45e59fd214cc156fa3cf",
      "c1e67ef12b8546b1a3c2065ffa6c3f40",
      "82c80ea6c08743c685f962d581960182",
      "d68874a8366e4299aad5c2bb5095bc86",
      "ff2df86eeb2b4fdfb29288b6c2dc4417",
      "c6c1bc6b270a4ddbaa57860a8913b383",
      "42267686b8e94761b3ff69e19e5674c8",
      "c1005c646c1b4ae18e87e5f004826263",
      "fa77f7ef943c41ada8657281e934bb59",
      "fd6e719d6e9746d38a099c3f974d81e3",
      "a879bfb1a7a34729a8b79e6ba6f8ee20",
      "83b5a5a9a5784e59b03169d5e4e9877a",
      "262975edf072439894e208317d23040b",
      "b20a0caf522449cf92acc5ba92ab5128",
      "571b4d9482304423b98848cd4990787a",
      "1319f99b9b2f4b459c5cb865b3040670",
      "50020e9e633f4d74ba05aaaf07571adb",
      "75fe64ab355c4c18a2aecc902d2390d2",
      "f33752806b344fa3875e28d8addbce6b",
      "91424c60bd4e49c19887759279084635",
      "654e8a8adfa341c9885bbbbcf84ccd91",
      "78988608423342bba96d74383dd21ac1",
      "3568681a62ae4d2aa93be2edf8e37886",
      "265605cfb5e7455496b422f9d9ecf452",
      "22a99c221f864eb6b94ad5f5455fc8c6",
      "b71f2171471d4b5282e1f54ab0a23173",
      "106afaa5f5ae4e60b2faa0005770a70e",
      "e50109a39dd041ebbf9242b46388aaf9",
      "c0959a77b00448628e08e69f0b5a89c6",
      "ad7fec552fa24566b7f8bf04c05cb0f3",
      "edeff7f1d9da45b7b0bc4da29e6874ec",
      "09d9553d47a54b09a0e14f34f4eb0b8b",
      "2b440bc3c85c4a9483a2b4fe148e684f",
      "6aed86b9c81f4c3ab4456f275ffe97bf",
      "70403a183dfa4920828db7372e75cae6",
      "bea1cf3e38e94fa6b6561ac1967c6326",
      "969bb8d2e94a4c929d62eaa1f2b8b394",
      "31d89d2af55d4e8a8b6f86ac7f9ba151",
      "b775e1e37eaf4420b95309ef66f6b5b3",
      "b64a0eb9092041538ffbee2c6f9a2d93",
      "4ddb88afc6c44a53b17f2c281cd5f081",
      "3897eb763e7e42d6b81c1e33a6d7c190",
      "d7dd81e34b7e467c920f9dc6e8b21811"
     ]
    },
    "id": "8xsAWYm7gIRp",
    "executionInfo": {
     "status": "ok",
     "timestamp": 1639155351631,
     "user_tz": -60,
     "elapsed": 2662,
     "user": {
      "displayName": "WENJIE JIN",
      "photoUrl": "https://lh3.googleusercontent.com/a/default-user=s64",
      "userId": "02701011265521055522"
     }
    },
    "outputId": "3f5f03ee-241f-4fe8-e23a-3130d098aa6b"
   },
   "source": [
    "all_words = set([word for sentence in sentences for word, _ in sentence])\n",
    "\n",
    "max_seq_len = max([len(x) for x in X])\n",
    "max_seq_len = 128 if max_seq_len<128 else max_seq_len\n",
    "print(\"max_seq_leng:\", max_seq_len)\n",
    "\n",
    "n_words = len(all_words)\n",
    "print(\"Number of words:\", n_words)\n",
    "print(\"Words: \", all_words)\n",
    "\n",
    "all_tags = set([tag for sentence in sentences for _, tag in sentence])\n",
    "num_tags = len(all_tags)\n",
    "print(\"Number of tags:\", num_tags)\n",
    "print(\"Tags:\", all_tags)\n",
    "\n",
    "tag2index = {tag: i for i, tag in enumerate(all_tags)}\n",
    "index2tag = {i: tag for tag, i in tag2index.items()}\n",
    "\n",
    "tokenizer = BertTokenizerFast.from_pretrained(BERT_MODEL_NAME)\n"
   ],
   "execution_count": 14,
   "outputs": [
    {
     "output_type": "stream",
     "name": "stdout",
     "text": [
      "max_seq_leng: 128\n",
      "Number of words: 533\n",
      "Words:  {'June', 'that', '1907', 'PMTair', '626', '21', 'final', '2009', 'western', 'responsibility', 'A330-200', 'Smolensk', '251', '130', 'Out', '737-800,', 'injuries.', '737-800.', 'Azores', 'France', 'TAM', '236', 'Russia', 'near', 'survivors.', 'Moroni,', 'M?rida,', 'York', 'members', '83', 'of', 'down', '29', 'several', '152', '2008', 'high', '1996', 'out', 'tail', 'runs', '312', 'loss', 'first', '8969', '85', '2006', 'Queens', 'just', 'All', 'Air', 'Q400', '16', 'May', 'fatal', 'officials', 'apparently', '12', 'Caribbean', 'people', 'attempting', 'Santiago', 'injured.', 'multiple', 'Venezuela', 'splits', 'Bangkok', 'GIA.', 'waters', 'runway', 'Airways', 'A320', 'Irkutsk', 'Janeiro,', 'Algiers,', 'ever', 'passengers', 'International', '96/96', '145', '1990', 'London', 'land', 'injuries,', 'Vincennes', 'disaster.', 'John', 'in', 'for', '9', 'hijacked', 'Margalla', '52', 'explodes', 'MD-82', 'Bishkek,', 'Liberty', 'this', 'business', 'fly', 'taking', 'aboard.', 'the', '4', 'claimed', 'ranking', '812', 'Ilyushin', 'bursts', 'Mangalore', 'Clarence,', '777-200ER', 'recovered', 'local', 'Mato', 'Gol', '1907,', 'some', 'Douglas', '164', 'standoff,', '80', '518', '1995', '153', 'McDonnell', 'Kazakhstan', 'fatality', 'thick', 'fuel', 'fog', 'AIRES', 'Brazil;', 'Brazil', 'no', 'personnel', 'Tu-154', '68', 'not', '241', 'hit', '7', 'crew', 'vertical', 'Tokyo', '304', 'Transportes', 'due', 'Hudson', 'It', 'Yemenia', 'approaching', 'were', 'ILS.', 'house', 'while', '747', 'B?rbara', '763', 'September', ',', 'lightning', 'Poland', 'confirmed', 'Saudi', '28', '243', 'aboard', 'commandos', '?', '101', 'flying', 'until', 'Heathrow', 'by', '1549', 'total', 'three', 'Aloha', 'decompression', 'airfield', 'killing', 'Antonov', 'marks', 'attendant', '23', 'Kennedy', 'crash', 'President', 'resulting', 'clinging', '6895', 'A310-300', 'wreckage.', 'kill', '10:17', 'after', 'American', 'Marseille,', 'West', 'ground.', '8', 'cruiser', 'blown', 'failure', 'mid-air', 'Hills', 'Japan', 'captain', 'island', 'French', 'Rojas', 'spin', '15', 'F.', 'on', 'co-pilot', 'Crashed', 'southwestern', 'flight', '72-200', 'airport', 'A320,', 'Aero', '777.', 'Dash', 'including', 'Buffalo', 'China', 'Legacy,', 'Ocean', 'least', 'take-off', 'killed.', '707', 'Andr?s,', 'aircraft', 'as', 'stormed', 'plane', '20', 'safely', 'bodies', 'US', 'Medell?n', 'USS', 'Airlines', 'Paris,', 'After', 'Arabian', 'people,', '3054,', 'Flight', 'A300', 'tires', 'Cuba', 'Vladivostok', '72.', 'Airbus', 'reported', 'Niagara', 'weather', '883', '2005', '587', 'explosive', 'Tupolev', '202', 'A', 'A321', 'an', 'January', 'Comoros', 'separation', 'tarmac', 'found', ';', 'MD-11', '154', 'onboard', 'bird', 'pm', '24', 'jet', 'later.', \"plane's\", '1', 'Kyrgyzstan', 'enters', 'FedEx', '12-year-old', 'Congonhas-S?o', 'An-24', '1994', '2010', '10.04.2010', 'poor', 'Colombia', 'at', 'British', 'a', 'Gustavo', '358', 'double', 'board.', 'City', '22', 'Boeing', 'shot', 'perished.', '447', 'north-east', 'who', 'two-day', 'accident', '757', 'involving', 'its', 'being', '49', '269', 'Charkhi', 'fin', 'allowed', 'landing', '125', 'suggest', 'Iranian', 'where', '3', 'area', 'Samui', 'Ko', 'with', 'February', 'Colgan', '3407', 'when', 'Cartel', 'Reports', 'Airblue', 'Indian', '5', 'Avianca', 'one', 'hijackers.', 'into', 'board,', 'well', 'Iran', 'manages', 'makes', 'Algeria', 'New', 'group', 'Lech', 'flat', 'it', \"Sana'a,\", 'killed,', '352', 'aboard;', 'neighborhood', 'conditions', 'but', '38', 'survive.', 'Il-76', '-', 'Atlantic', 'Santa', 'United', 'snaps', 'seriously', 'militant', 'death', '708', 'fatalities;', 'August', 'extinguished', 'Legacy', 'all', 'One-Two-GO', 'Jersey', 'Taipei,', 'there', 'Taiwan', 'only', '187', 'survive', 'Sp?ritus,', 'short', 'A?reos', 'crew;', '25', '146', '160', 'Embraer', 'occupants,', 'Kingdom', 'bad', 'Grosso,', 'December', 'Guangzhou,', '.', '2001', 'treated', 'Paulo', '71', 'board', '737-700', '266', 'dog', 'ATR', 'severe', 'mountain', 'days', 'Islamabad', 'collides', 'Rio', '158', 'Cali,', 'Irkutsk,', 'causing', 'fire', 'are', '290', 'Kaczynski', 'strikes', 'ditches', 'suffers', '1989', 'both', 'Narita', '27', '37', 'Airport', '2', 'Transat', 'died', 'belly', 'carrying', 'November', 'other', 'engine', '90', '42-300,', '737-800', \"Pakistan's\", 'takeoff', 'Dadri,', '46', '30', 'people.', 'wooded', '228', 'injuries', '1991', 'Itek', 'onto', '737', 'over', 'Cambodia', 'None', 'emergency', 'and', 'perish;', 'July', 'April', 'shortly', 'Upon', 'lands', 'attack', '203', '19', 'Thailand', 'crashes', '6', 'San', '17', '95', 'Express', 'to', 'is', 'LaGuardia', 'Sancti', 'minor', 'killed', 'de', 'River', 'safely.', 'Of', 'resort', 'air', '113', '655', 'approach', 'die.', '747-200F', 'The', 'flames', 'time;', 'blow', 'India', 'Newark', 'worst', 'Yemen', 'capital', 'debris', '965', 'March', 'Bombardier', 'missile', '1988', 'hill', 'Wanli,', 'Manas', 'Airport,', 'fatalities.', 'Pinilla', '8250', 'members,', 'off', 'during', '42.', '727', 'overshooting', 'from', 'Phuket,', '2007', 'ATR-72-200', 'out,', '107'}\n",
      "Number of tags: 25\n",
      "Tags: {'B-Place', 'I-Cause', 'B-Airline', 'I-DateOfAccident', 'I-Airline', 'B-Passenger', 'I-TypeOfAccident', 'B-NumberOfVictims', 'I-Origin', 'I-FlightNumber', 'B-FlightNumber', 'I-Passenger', 'B-Origin', 'B-Survivors', 'O', 'I-Destination', 'B-Tripulation', 'B-DateOfAccident', 'B-Year', 'I-Place', 'B-Cause', 'B-Destination', 'I-TypeOfAircraft', 'B-TypeOfAircraft', 'B-TypeOfAccident'}\n"
     ]
    },
    {
     "output_type": "display_data",
     "data": {
      "application/vnd.jupyter.widget-view+json": {
       "model_id": "01593b3ecd7d4aafa443257fceeb167e",
       "version_minor": 0,
       "version_major": 2
      },
      "text/plain": [
       "Downloading:   0%|          | 0.00/226k [00:00<?, ?B/s]"
      ]
     },
     "metadata": {}
    },
    {
     "output_type": "display_data",
     "data": {
      "application/vnd.jupyter.widget-view+json": {
       "model_id": "a879bfb1a7a34729a8b79e6ba6f8ee20",
       "version_minor": 0,
       "version_major": 2
      },
      "text/plain": [
       "Downloading:   0%|          | 0.00/455k [00:00<?, ?B/s]"
      ]
     },
     "metadata": {}
    },
    {
     "output_type": "display_data",
     "data": {
      "application/vnd.jupyter.widget-view+json": {
       "model_id": "78988608423342bba96d74383dd21ac1",
       "version_minor": 0,
       "version_major": 2
      },
      "text/plain": [
       "Downloading:   0%|          | 0.00/28.0 [00:00<?, ?B/s]"
      ]
     },
     "metadata": {}
    },
    {
     "output_type": "display_data",
     "data": {
      "application/vnd.jupyter.widget-view+json": {
       "model_id": "2b440bc3c85c4a9483a2b4fe148e684f",
       "version_minor": 0,
       "version_major": 2
      },
      "text/plain": [
       "Downloading:   0%|          | 0.00/570 [00:00<?, ?B/s]"
      ]
     },
     "metadata": {}
    }
   ]
  },
  {
   "cell_type": "markdown",
   "metadata": {
    "id": "0ot7wvAvgGPH"
   },
   "source": [
    "### Preparing the dataset and dataloader ###\n"
   ]
  },
  {
   "cell_type": "code",
   "metadata": {
    "id": "6X2THQG1fHES",
    "executionInfo": {
     "status": "ok",
     "timestamp": 1639155384195,
     "user_tz": -60,
     "elapsed": 257,
     "user": {
      "displayName": "WENJIE JIN",
      "photoUrl": "https://lh3.googleusercontent.com/a/default-user=s64",
      "userId": "02701011265521055522"
     }
    }
   },
   "source": [
    "class dataset(Dataset):\n",
    "  def __init__(self, X, y, tokenizer, max_len):\n",
    "        self.len = len(X)\n",
    "        self.X = X\n",
    "        self.y = y\n",
    "        self.tokenizer = tokenizer\n",
    "        self.max_len = max_len\n",
    "\n",
    "  def __getitem__(self, index):\n",
    "        # step 1: get the sentence and word labels \n",
    "        sentence = self.X[index]\n",
    "        word_labels = self.y[index]\n",
    "\n",
    "        # step 2: use tokenizer to encode sentence (includes padding/truncation up to max length)\n",
    "        # BertTokenizerFast provides a handy \"return_offsets_mapping\" functionality for individual tokens\n",
    "        encoding = self.tokenizer(sentence,\n",
    "                             is_split_into_words=True, \n",
    "                             return_offsets_mapping=True, \n",
    "                             padding='max_length', \n",
    "                             truncation=True, \n",
    "                             max_length=self.max_len)\n",
    "        \n",
    "        # step 3: create token labels only for first word pieces of each tokenized word\n",
    "        labels = [tag2index[label] for label in word_labels] \n",
    "        # code based on https://huggingface.co/transformers/custom_datasets.html#tok-ner\n",
    "        # create an empty array of -100 of length max_length\n",
    "        encoded_labels = np.ones(len(encoding[\"offset_mapping\"]), dtype=int) * -100\n",
    "        \n",
    "        # set only labels whose first offset position is 0 and the second is not 0\n",
    "        i = 0\n",
    "        for idx, mapping in enumerate(encoding[\"offset_mapping\"]):\n",
    "          if mapping[0] == 0 and mapping[1] != 0:\n",
    "            # overwrite label\n",
    "            encoded_labels[idx] = labels[i]\n",
    "            i += 1\n",
    "\n",
    "        # step 4: turn everything into PyTorch tensors\n",
    "        item = {key: torch.as_tensor(val) for key, val in encoding.items()}\n",
    "        item['labels'] = torch.as_tensor(encoded_labels)\n",
    "        \n",
    "        return item\n",
    "\n",
    "  def __len__(self):\n",
    "        return self.len"
   ],
   "execution_count": 15,
   "outputs": []
  },
  {
   "cell_type": "code",
   "metadata": {
    "id": "I8GwUMfoeWGv",
    "executionInfo": {
     "status": "ok",
     "timestamp": 1639155388654,
     "user_tz": -60,
     "elapsed": 213,
     "user": {
      "displayName": "WENJIE JIN",
      "photoUrl": "https://lh3.googleusercontent.com/a/default-user=s64",
      "userId": "02701011265521055522"
     }
    }
   },
   "source": [
    "training_set = dataset(X_train, y_train, tokenizer, max_seq_len)\n",
    "validation_set = dataset(X_valid, y_valid, tokenizer, max_seq_len)\n",
    "testing_set = dataset(X_test, y_test, tokenizer, max_seq_len)\n",
    "\n",
    "training_loader = DataLoader(training_set, batch_size=TRAIN_BATCH_SIZE, shuffle=True)\n",
    "validation_loader = DataLoader(validation_set, batch_size=VALID_BATCH_SIZE, shuffle=False)\n",
    "testing_loader = DataLoader(testing_set, batch_size=VALID_BATCH_SIZE, shuffle=False)"
   ],
   "execution_count": 16,
   "outputs": []
  },
  {
   "cell_type": "markdown",
   "metadata": {
    "id": "_gbW0EJ1X6G8"
   },
   "source": [
    "### BERT Model. ###\n"
   ]
  },
  {
   "cell_type": "code",
   "metadata": {
    "id": "miymOarMVu8i",
    "colab": {
     "base_uri": "https://localhost:8080/",
     "height": 1000,
     "referenced_widgets": [
      "d9099f4b14f4411fbba8a4ed41d21c59",
      "8b50c2625d884a93a22fdaa7cca9edeb",
      "8dd69b3b5b334036b3d8fc7fceaf4ef3",
      "d7efc729333845dba34b1a67f5ea2aeb",
      "1c410337027a48d0986afe8473fb3b01",
      "13ca91e3144c42bcad3703ac620569e1",
      "f3845d980a634b59a042b274f78fc0b7",
      "41a97d71c7a04285974654e2cf9c71e6",
      "66d41fb6ebff4835843d0695003eadd9",
      "48622b298b0a4f09b5e84a4004467d19",
      "959f9e3dd3774f32976789b932756e98"
     ]
    },
    "executionInfo": {
     "status": "ok",
     "timestamp": 1639155420203,
     "user_tz": -60,
     "elapsed": 30013,
     "user": {
      "displayName": "WENJIE JIN",
      "photoUrl": "https://lh3.googleusercontent.com/a/default-user=s64",
      "userId": "02701011265521055522"
     }
    },
    "outputId": "8071ffd0-d627-4de1-8e89-eb7c60ad69e1"
   },
   "source": [
    "model = BertForTokenClassification.from_pretrained(BERT_MODEL_NAME, num_labels=len(tag2index))\n",
    "model.to(device)"
   ],
   "execution_count": 17,
   "outputs": [
    {
     "output_type": "display_data",
     "data": {
      "application/vnd.jupyter.widget-view+json": {
       "model_id": "d9099f4b14f4411fbba8a4ed41d21c59",
       "version_minor": 0,
       "version_major": 2
      },
      "text/plain": [
       "Downloading:   0%|          | 0.00/420M [00:00<?, ?B/s]"
      ]
     },
     "metadata": {}
    },
    {
     "output_type": "stream",
     "name": "stderr",
     "text": [
      "Some weights of the model checkpoint at bert-base-uncased were not used when initializing BertForTokenClassification: ['cls.predictions.transform.LayerNorm.bias', 'cls.predictions.transform.dense.bias', 'cls.predictions.transform.dense.weight', 'cls.predictions.transform.LayerNorm.weight', 'cls.predictions.bias', 'cls.seq_relationship.weight', 'cls.seq_relationship.bias', 'cls.predictions.decoder.weight']\n",
      "- This IS expected if you are initializing BertForTokenClassification from the checkpoint of a model trained on another task or with another architecture (e.g. initializing a BertForSequenceClassification model from a BertForPreTraining model).\n",
      "- This IS NOT expected if you are initializing BertForTokenClassification from the checkpoint of a model that you expect to be exactly identical (initializing a BertForSequenceClassification model from a BertForSequenceClassification model).\n",
      "Some weights of BertForTokenClassification were not initialized from the model checkpoint at bert-base-uncased and are newly initialized: ['classifier.weight', 'classifier.bias']\n",
      "You should probably TRAIN this model on a down-stream task to be able to use it for predictions and inference.\n"
     ]
    },
    {
     "output_type": "execute_result",
     "data": {
      "text/plain": [
       "BertForTokenClassification(\n",
       "  (bert): BertModel(\n",
       "    (embeddings): BertEmbeddings(\n",
       "      (word_embeddings): Embedding(30522, 768, padding_idx=0)\n",
       "      (position_embeddings): Embedding(512, 768)\n",
       "      (token_type_embeddings): Embedding(2, 768)\n",
       "      (LayerNorm): LayerNorm((768,), eps=1e-12, elementwise_affine=True)\n",
       "      (dropout): Dropout(p=0.1, inplace=False)\n",
       "    )\n",
       "    (encoder): BertEncoder(\n",
       "      (layer): ModuleList(\n",
       "        (0): BertLayer(\n",
       "          (attention): BertAttention(\n",
       "            (self): BertSelfAttention(\n",
       "              (query): Linear(in_features=768, out_features=768, bias=True)\n",
       "              (key): Linear(in_features=768, out_features=768, bias=True)\n",
       "              (value): Linear(in_features=768, out_features=768, bias=True)\n",
       "              (dropout): Dropout(p=0.1, inplace=False)\n",
       "            )\n",
       "            (output): BertSelfOutput(\n",
       "              (dense): Linear(in_features=768, out_features=768, bias=True)\n",
       "              (LayerNorm): LayerNorm((768,), eps=1e-12, elementwise_affine=True)\n",
       "              (dropout): Dropout(p=0.1, inplace=False)\n",
       "            )\n",
       "          )\n",
       "          (intermediate): BertIntermediate(\n",
       "            (dense): Linear(in_features=768, out_features=3072, bias=True)\n",
       "          )\n",
       "          (output): BertOutput(\n",
       "            (dense): Linear(in_features=3072, out_features=768, bias=True)\n",
       "            (LayerNorm): LayerNorm((768,), eps=1e-12, elementwise_affine=True)\n",
       "            (dropout): Dropout(p=0.1, inplace=False)\n",
       "          )\n",
       "        )\n",
       "        (1): BertLayer(\n",
       "          (attention): BertAttention(\n",
       "            (self): BertSelfAttention(\n",
       "              (query): Linear(in_features=768, out_features=768, bias=True)\n",
       "              (key): Linear(in_features=768, out_features=768, bias=True)\n",
       "              (value): Linear(in_features=768, out_features=768, bias=True)\n",
       "              (dropout): Dropout(p=0.1, inplace=False)\n",
       "            )\n",
       "            (output): BertSelfOutput(\n",
       "              (dense): Linear(in_features=768, out_features=768, bias=True)\n",
       "              (LayerNorm): LayerNorm((768,), eps=1e-12, elementwise_affine=True)\n",
       "              (dropout): Dropout(p=0.1, inplace=False)\n",
       "            )\n",
       "          )\n",
       "          (intermediate): BertIntermediate(\n",
       "            (dense): Linear(in_features=768, out_features=3072, bias=True)\n",
       "          )\n",
       "          (output): BertOutput(\n",
       "            (dense): Linear(in_features=3072, out_features=768, bias=True)\n",
       "            (LayerNorm): LayerNorm((768,), eps=1e-12, elementwise_affine=True)\n",
       "            (dropout): Dropout(p=0.1, inplace=False)\n",
       "          )\n",
       "        )\n",
       "        (2): BertLayer(\n",
       "          (attention): BertAttention(\n",
       "            (self): BertSelfAttention(\n",
       "              (query): Linear(in_features=768, out_features=768, bias=True)\n",
       "              (key): Linear(in_features=768, out_features=768, bias=True)\n",
       "              (value): Linear(in_features=768, out_features=768, bias=True)\n",
       "              (dropout): Dropout(p=0.1, inplace=False)\n",
       "            )\n",
       "            (output): BertSelfOutput(\n",
       "              (dense): Linear(in_features=768, out_features=768, bias=True)\n",
       "              (LayerNorm): LayerNorm((768,), eps=1e-12, elementwise_affine=True)\n",
       "              (dropout): Dropout(p=0.1, inplace=False)\n",
       "            )\n",
       "          )\n",
       "          (intermediate): BertIntermediate(\n",
       "            (dense): Linear(in_features=768, out_features=3072, bias=True)\n",
       "          )\n",
       "          (output): BertOutput(\n",
       "            (dense): Linear(in_features=3072, out_features=768, bias=True)\n",
       "            (LayerNorm): LayerNorm((768,), eps=1e-12, elementwise_affine=True)\n",
       "            (dropout): Dropout(p=0.1, inplace=False)\n",
       "          )\n",
       "        )\n",
       "        (3): BertLayer(\n",
       "          (attention): BertAttention(\n",
       "            (self): BertSelfAttention(\n",
       "              (query): Linear(in_features=768, out_features=768, bias=True)\n",
       "              (key): Linear(in_features=768, out_features=768, bias=True)\n",
       "              (value): Linear(in_features=768, out_features=768, bias=True)\n",
       "              (dropout): Dropout(p=0.1, inplace=False)\n",
       "            )\n",
       "            (output): BertSelfOutput(\n",
       "              (dense): Linear(in_features=768, out_features=768, bias=True)\n",
       "              (LayerNorm): LayerNorm((768,), eps=1e-12, elementwise_affine=True)\n",
       "              (dropout): Dropout(p=0.1, inplace=False)\n",
       "            )\n",
       "          )\n",
       "          (intermediate): BertIntermediate(\n",
       "            (dense): Linear(in_features=768, out_features=3072, bias=True)\n",
       "          )\n",
       "          (output): BertOutput(\n",
       "            (dense): Linear(in_features=3072, out_features=768, bias=True)\n",
       "            (LayerNorm): LayerNorm((768,), eps=1e-12, elementwise_affine=True)\n",
       "            (dropout): Dropout(p=0.1, inplace=False)\n",
       "          )\n",
       "        )\n",
       "        (4): BertLayer(\n",
       "          (attention): BertAttention(\n",
       "            (self): BertSelfAttention(\n",
       "              (query): Linear(in_features=768, out_features=768, bias=True)\n",
       "              (key): Linear(in_features=768, out_features=768, bias=True)\n",
       "              (value): Linear(in_features=768, out_features=768, bias=True)\n",
       "              (dropout): Dropout(p=0.1, inplace=False)\n",
       "            )\n",
       "            (output): BertSelfOutput(\n",
       "              (dense): Linear(in_features=768, out_features=768, bias=True)\n",
       "              (LayerNorm): LayerNorm((768,), eps=1e-12, elementwise_affine=True)\n",
       "              (dropout): Dropout(p=0.1, inplace=False)\n",
       "            )\n",
       "          )\n",
       "          (intermediate): BertIntermediate(\n",
       "            (dense): Linear(in_features=768, out_features=3072, bias=True)\n",
       "          )\n",
       "          (output): BertOutput(\n",
       "            (dense): Linear(in_features=3072, out_features=768, bias=True)\n",
       "            (LayerNorm): LayerNorm((768,), eps=1e-12, elementwise_affine=True)\n",
       "            (dropout): Dropout(p=0.1, inplace=False)\n",
       "          )\n",
       "        )\n",
       "        (5): BertLayer(\n",
       "          (attention): BertAttention(\n",
       "            (self): BertSelfAttention(\n",
       "              (query): Linear(in_features=768, out_features=768, bias=True)\n",
       "              (key): Linear(in_features=768, out_features=768, bias=True)\n",
       "              (value): Linear(in_features=768, out_features=768, bias=True)\n",
       "              (dropout): Dropout(p=0.1, inplace=False)\n",
       "            )\n",
       "            (output): BertSelfOutput(\n",
       "              (dense): Linear(in_features=768, out_features=768, bias=True)\n",
       "              (LayerNorm): LayerNorm((768,), eps=1e-12, elementwise_affine=True)\n",
       "              (dropout): Dropout(p=0.1, inplace=False)\n",
       "            )\n",
       "          )\n",
       "          (intermediate): BertIntermediate(\n",
       "            (dense): Linear(in_features=768, out_features=3072, bias=True)\n",
       "          )\n",
       "          (output): BertOutput(\n",
       "            (dense): Linear(in_features=3072, out_features=768, bias=True)\n",
       "            (LayerNorm): LayerNorm((768,), eps=1e-12, elementwise_affine=True)\n",
       "            (dropout): Dropout(p=0.1, inplace=False)\n",
       "          )\n",
       "        )\n",
       "        (6): BertLayer(\n",
       "          (attention): BertAttention(\n",
       "            (self): BertSelfAttention(\n",
       "              (query): Linear(in_features=768, out_features=768, bias=True)\n",
       "              (key): Linear(in_features=768, out_features=768, bias=True)\n",
       "              (value): Linear(in_features=768, out_features=768, bias=True)\n",
       "              (dropout): Dropout(p=0.1, inplace=False)\n",
       "            )\n",
       "            (output): BertSelfOutput(\n",
       "              (dense): Linear(in_features=768, out_features=768, bias=True)\n",
       "              (LayerNorm): LayerNorm((768,), eps=1e-12, elementwise_affine=True)\n",
       "              (dropout): Dropout(p=0.1, inplace=False)\n",
       "            )\n",
       "          )\n",
       "          (intermediate): BertIntermediate(\n",
       "            (dense): Linear(in_features=768, out_features=3072, bias=True)\n",
       "          )\n",
       "          (output): BertOutput(\n",
       "            (dense): Linear(in_features=3072, out_features=768, bias=True)\n",
       "            (LayerNorm): LayerNorm((768,), eps=1e-12, elementwise_affine=True)\n",
       "            (dropout): Dropout(p=0.1, inplace=False)\n",
       "          )\n",
       "        )\n",
       "        (7): BertLayer(\n",
       "          (attention): BertAttention(\n",
       "            (self): BertSelfAttention(\n",
       "              (query): Linear(in_features=768, out_features=768, bias=True)\n",
       "              (key): Linear(in_features=768, out_features=768, bias=True)\n",
       "              (value): Linear(in_features=768, out_features=768, bias=True)\n",
       "              (dropout): Dropout(p=0.1, inplace=False)\n",
       "            )\n",
       "            (output): BertSelfOutput(\n",
       "              (dense): Linear(in_features=768, out_features=768, bias=True)\n",
       "              (LayerNorm): LayerNorm((768,), eps=1e-12, elementwise_affine=True)\n",
       "              (dropout): Dropout(p=0.1, inplace=False)\n",
       "            )\n",
       "          )\n",
       "          (intermediate): BertIntermediate(\n",
       "            (dense): Linear(in_features=768, out_features=3072, bias=True)\n",
       "          )\n",
       "          (output): BertOutput(\n",
       "            (dense): Linear(in_features=3072, out_features=768, bias=True)\n",
       "            (LayerNorm): LayerNorm((768,), eps=1e-12, elementwise_affine=True)\n",
       "            (dropout): Dropout(p=0.1, inplace=False)\n",
       "          )\n",
       "        )\n",
       "        (8): BertLayer(\n",
       "          (attention): BertAttention(\n",
       "            (self): BertSelfAttention(\n",
       "              (query): Linear(in_features=768, out_features=768, bias=True)\n",
       "              (key): Linear(in_features=768, out_features=768, bias=True)\n",
       "              (value): Linear(in_features=768, out_features=768, bias=True)\n",
       "              (dropout): Dropout(p=0.1, inplace=False)\n",
       "            )\n",
       "            (output): BertSelfOutput(\n",
       "              (dense): Linear(in_features=768, out_features=768, bias=True)\n",
       "              (LayerNorm): LayerNorm((768,), eps=1e-12, elementwise_affine=True)\n",
       "              (dropout): Dropout(p=0.1, inplace=False)\n",
       "            )\n",
       "          )\n",
       "          (intermediate): BertIntermediate(\n",
       "            (dense): Linear(in_features=768, out_features=3072, bias=True)\n",
       "          )\n",
       "          (output): BertOutput(\n",
       "            (dense): Linear(in_features=3072, out_features=768, bias=True)\n",
       "            (LayerNorm): LayerNorm((768,), eps=1e-12, elementwise_affine=True)\n",
       "            (dropout): Dropout(p=0.1, inplace=False)\n",
       "          )\n",
       "        )\n",
       "        (9): BertLayer(\n",
       "          (attention): BertAttention(\n",
       "            (self): BertSelfAttention(\n",
       "              (query): Linear(in_features=768, out_features=768, bias=True)\n",
       "              (key): Linear(in_features=768, out_features=768, bias=True)\n",
       "              (value): Linear(in_features=768, out_features=768, bias=True)\n",
       "              (dropout): Dropout(p=0.1, inplace=False)\n",
       "            )\n",
       "            (output): BertSelfOutput(\n",
       "              (dense): Linear(in_features=768, out_features=768, bias=True)\n",
       "              (LayerNorm): LayerNorm((768,), eps=1e-12, elementwise_affine=True)\n",
       "              (dropout): Dropout(p=0.1, inplace=False)\n",
       "            )\n",
       "          )\n",
       "          (intermediate): BertIntermediate(\n",
       "            (dense): Linear(in_features=768, out_features=3072, bias=True)\n",
       "          )\n",
       "          (output): BertOutput(\n",
       "            (dense): Linear(in_features=3072, out_features=768, bias=True)\n",
       "            (LayerNorm): LayerNorm((768,), eps=1e-12, elementwise_affine=True)\n",
       "            (dropout): Dropout(p=0.1, inplace=False)\n",
       "          )\n",
       "        )\n",
       "        (10): BertLayer(\n",
       "          (attention): BertAttention(\n",
       "            (self): BertSelfAttention(\n",
       "              (query): Linear(in_features=768, out_features=768, bias=True)\n",
       "              (key): Linear(in_features=768, out_features=768, bias=True)\n",
       "              (value): Linear(in_features=768, out_features=768, bias=True)\n",
       "              (dropout): Dropout(p=0.1, inplace=False)\n",
       "            )\n",
       "            (output): BertSelfOutput(\n",
       "              (dense): Linear(in_features=768, out_features=768, bias=True)\n",
       "              (LayerNorm): LayerNorm((768,), eps=1e-12, elementwise_affine=True)\n",
       "              (dropout): Dropout(p=0.1, inplace=False)\n",
       "            )\n",
       "          )\n",
       "          (intermediate): BertIntermediate(\n",
       "            (dense): Linear(in_features=768, out_features=3072, bias=True)\n",
       "          )\n",
       "          (output): BertOutput(\n",
       "            (dense): Linear(in_features=3072, out_features=768, bias=True)\n",
       "            (LayerNorm): LayerNorm((768,), eps=1e-12, elementwise_affine=True)\n",
       "            (dropout): Dropout(p=0.1, inplace=False)\n",
       "          )\n",
       "        )\n",
       "        (11): BertLayer(\n",
       "          (attention): BertAttention(\n",
       "            (self): BertSelfAttention(\n",
       "              (query): Linear(in_features=768, out_features=768, bias=True)\n",
       "              (key): Linear(in_features=768, out_features=768, bias=True)\n",
       "              (value): Linear(in_features=768, out_features=768, bias=True)\n",
       "              (dropout): Dropout(p=0.1, inplace=False)\n",
       "            )\n",
       "            (output): BertSelfOutput(\n",
       "              (dense): Linear(in_features=768, out_features=768, bias=True)\n",
       "              (LayerNorm): LayerNorm((768,), eps=1e-12, elementwise_affine=True)\n",
       "              (dropout): Dropout(p=0.1, inplace=False)\n",
       "            )\n",
       "          )\n",
       "          (intermediate): BertIntermediate(\n",
       "            (dense): Linear(in_features=768, out_features=3072, bias=True)\n",
       "          )\n",
       "          (output): BertOutput(\n",
       "            (dense): Linear(in_features=3072, out_features=768, bias=True)\n",
       "            (LayerNorm): LayerNorm((768,), eps=1e-12, elementwise_affine=True)\n",
       "            (dropout): Dropout(p=0.1, inplace=False)\n",
       "          )\n",
       "        )\n",
       "      )\n",
       "    )\n",
       "  )\n",
       "  (dropout): Dropout(p=0.1, inplace=False)\n",
       "  (classifier): Linear(in_features=768, out_features=25, bias=True)\n",
       ")"
      ]
     },
     "metadata": {},
     "execution_count": 17
    }
   ]
  },
  {
   "cell_type": "markdown",
   "metadata": {
    "id": "o9PBmiN5YIsw"
   },
   "source": [
    "### Training the model: ###\n"
   ]
  },
  {
   "cell_type": "code",
   "metadata": {
    "id": "sH7UrvDAYunL",
    "executionInfo": {
     "status": "ok",
     "timestamp": 1639156972073,
     "user_tz": -60,
     "elapsed": 240,
     "user": {
      "displayName": "WENJIE JIN",
      "photoUrl": "https://lh3.googleusercontent.com/a/default-user=s64",
      "userId": "02701011265521055522"
     }
    }
   },
   "source": [
    "optimizer = torch.optim.Adam(params=model.parameters(), lr=LEARNING_RATE)"
   ],
   "execution_count": 18,
   "outputs": []
  },
  {
   "cell_type": "code",
   "metadata": {
    "id": "gDbt_uKBYwN0",
    "executionInfo": {
     "status": "ok",
     "timestamp": 1639156973045,
     "user_tz": -60,
     "elapsed": 2,
     "user": {
      "displayName": "WENJIE JIN",
      "photoUrl": "https://lh3.googleusercontent.com/a/default-user=s64",
      "userId": "02701011265521055522"
     }
    }
   },
   "source": [
    "def valid(model, data_loader):\n",
    "    # put model in evaluation mode\n",
    "    model.eval()\n",
    "    \n",
    "    eval_loss, eval_accuracy = 0, 0\n",
    "    nb_eval_examples, nb_eval_steps = 0, 0\n",
    "    eval_preds, eval_labels = [], []\n",
    "    \n",
    "    with torch.no_grad():\n",
    "        for idx, batch in enumerate(data_loader):\n",
    "            \n",
    "            ids = batch['input_ids'].to(device, dtype = torch.long)\n",
    "            mask = batch['attention_mask'].to(device, dtype = torch.long)\n",
    "            labels = batch['labels'].to(device, dtype = torch.long)\n",
    "            \n",
    "            outputs = model(input_ids=ids, attention_mask=mask, labels=labels)\n",
    "            loss = outputs[0]\n",
    "            eval_logits = outputs[1]\n",
    "            \n",
    "            eval_loss += loss.item()\n",
    "\n",
    "            nb_eval_steps += 1\n",
    "            nb_eval_examples += labels.size(0)\n",
    "        \n",
    "            # if idx % 100==0:\n",
    "            #     loss_step = eval_loss/nb_eval_steps\n",
    "            #     print(f\"Validation loss per 100 evaluation steps: {loss_step}\")\n",
    "              \n",
    "            # compute evaluation accuracy\n",
    "            flattened_targets = labels.view(-1) # shape (batch_size * seq_len,)\n",
    "            active_logits = eval_logits.view(-1, model.num_labels) # shape (batch_size * seq_len, num_labels)\n",
    "            flattened_predictions = torch.argmax(active_logits, axis=1) # shape (batch_size * seq_len,)\n",
    "            \n",
    "            # only compute accuracy at active labels\n",
    "            active_accuracy = labels.view(-1) != -100 # shape (batch_size, seq_len)\n",
    "        \n",
    "            labels = torch.masked_select(flattened_targets, active_accuracy)\n",
    "            predictions = torch.masked_select(flattened_predictions, active_accuracy)\n",
    "            \n",
    "            eval_labels.extend(labels)\n",
    "            eval_preds.extend(predictions)\n",
    "            \n",
    "            tmp_eval_accuracy = accuracy_score(labels.cpu().numpy(), predictions.cpu().numpy())\n",
    "            eval_accuracy += tmp_eval_accuracy\n",
    "\n",
    "    labels = [index2tag[id.item()] for id in eval_labels]\n",
    "    predictions = [index2tag[id.item()] for id in eval_preds]\n",
    "    \n",
    "    eval_loss = eval_loss / nb_eval_steps\n",
    "    eval_accuracy = eval_accuracy / nb_eval_steps\n",
    "\n",
    "    # print(f\"Validation : loss {eval_loss:.2f} accuracy {eval_accuracy:.2f}\")\n",
    "\n",
    "    return labels, predictions, eval_loss, eval_accuracy"
   ],
   "execution_count": 19,
   "outputs": []
  },
  {
   "cell_type": "code",
   "metadata": {
    "id": "bQW-Cx8OY3hF",
    "executionInfo": {
     "status": "ok",
     "timestamp": 1639156974723,
     "user_tz": -60,
     "elapsed": 264,
     "user": {
      "displayName": "WENJIE JIN",
      "photoUrl": "https://lh3.googleusercontent.com/a/default-user=s64",
      "userId": "02701011265521055522"
     }
    }
   },
   "source": [
    "def train(epoch):\n",
    "    tr_loss, tr_accuracy = 0, 0\n",
    "    nb_tr_examples, nb_tr_steps = 0, 0\n",
    "    tr_preds, tr_labels = [], []\n",
    "    # put model in training mode\n",
    "    model.train()\n",
    "    with tqdm(training_loader, 'batch') as tepoch:\n",
    "        for idx, batch in enumerate(tepoch):\n",
    "            tepoch.set_description(f'Epoch {epoch}')\n",
    "            \n",
    "            ids = batch['input_ids'].to(device, dtype = torch.long)\n",
    "            mask = batch['attention_mask'].to(device, dtype = torch.long)\n",
    "            labels = batch['labels'].to(device, dtype = torch.long)\n",
    "\n",
    "            outputs = model(input_ids=ids, attention_mask=mask, labels=labels)\n",
    "            loss, tr_logits = outputs[0], outputs[1]\n",
    "            tr_loss += loss.item()\n",
    "\n",
    "            nb_tr_steps += 1\n",
    "            nb_tr_examples += labels.size(0)\n",
    "            \n",
    "            # if idx % 100==0:\n",
    "            #     loss_step = tr_loss/nb_tr_steps\n",
    "            #     print(f\"Training loss per 100 training steps: {loss_step:.2f}\")\n",
    "            \n",
    "            # compute training accuracy\n",
    "            flattened_targets = labels.view(-1) # shape (batch_size * seq_len,)\n",
    "            active_logits = tr_logits.view(-1, model.num_labels) # shape (batch_size * seq_len, num_labels)\n",
    "            flattened_predictions = torch.argmax(active_logits, axis=1) # shape (batch_size * seq_len,)\n",
    "            \n",
    "            # only compute accuracy at active labels\n",
    "            active_accuracy = labels.view(-1) != -100 # shape (batch_size, seq_len)\n",
    "            #active_labels = torch.where(active_accuracy, labels.view(-1), torch.tensor(-100).type_as(labels))\n",
    "            \n",
    "            labels = torch.masked_select(flattened_targets, active_accuracy)\n",
    "            predictions = torch.masked_select(flattened_predictions, active_accuracy)\n",
    "            \n",
    "            tr_labels.extend(labels)\n",
    "            tr_preds.extend(predictions)\n",
    "\n",
    "            tmp_tr_accuracy = accuracy_score(labels.cpu().numpy(), predictions.cpu().numpy())\n",
    "            tr_accuracy += tmp_tr_accuracy\n",
    "        \n",
    "            # gradient clipping\n",
    "            torch.nn.utils.clip_grad_norm_(\n",
    "                parameters=model.parameters(), max_norm=10\n",
    "            )\n",
    "            \n",
    "            # backward pass\n",
    "            optimizer.zero_grad()\n",
    "            loss.backward()\n",
    "            optimizer.step()\n",
    "            \n",
    "            tepoch.set_postfix(loss=tr_loss / nb_tr_steps, accuracy=tr_accuracy / nb_tr_steps)\n",
    "    \n",
    "    epoch_loss = tr_loss / nb_tr_steps\n",
    "    tr_accuracy = tr_accuracy / nb_tr_steps\n",
    "              \n",
    "    _, _ , val_loss, val_acc = valid(model, validation_loader)\n",
    "    \n",
    "    return epoch_loss, tr_accuracy, val_loss, val_acc"
   ],
   "execution_count": 20,
   "outputs": []
  },
  {
   "cell_type": "code",
   "metadata": {
    "colab": {
     "base_uri": "https://localhost:8080/"
    },
    "id": "QpQxS6HCY69-",
    "executionInfo": {
     "status": "ok",
     "timestamp": 1639157034148,
     "user_tz": -60,
     "elapsed": 58514,
     "user": {
      "displayName": "WENJIE JIN",
      "photoUrl": "https://lh3.googleusercontent.com/a/default-user=s64",
      "userId": "02701011265521055522"
     }
    },
    "outputId": "48f7ebd4-3c77-45f2-dc07-d4b9f06fbf8e"
   },
   "source": [
    "history = {'train_loss':[], 'train_accuracy':[], 'val_loss':[], 'val_accuracy':[], 'epoch':[]}\n",
    "for epoch in range(EPOCHS):\n",
    "    train_loss, train_acc, val_loss, val_acc = train(epoch)\n",
    "    \n",
    "    history['train_loss'].append(train_loss)\n",
    "    history['train_accuracy'].append(train_acc)\n",
    "    history['val_loss'].append(val_loss)\n",
    "    history['val_accuracy'].append(val_acc)\n",
    "    history['epoch'].append(epoch+1)"
   ],
   "execution_count": 21,
   "outputs": [
    {
     "output_type": "stream",
     "name": "stderr",
     "text": [
      "Epoch 0: 100%|██████████| 6/6 [00:01<00:00,  3.31it/s, accuracy=0.269, loss=2.97]\n",
      "Epoch 1: 100%|██████████| 6/6 [00:01<00:00,  3.81it/s, accuracy=0.562, loss=2.43]\n",
      "Epoch 2: 100%|██████████| 6/6 [00:01<00:00,  3.82it/s, accuracy=0.559, loss=2.07]\n",
      "Epoch 3: 100%|██████████| 6/6 [00:01<00:00,  3.83it/s, accuracy=0.559, loss=1.86]\n",
      "Epoch 4: 100%|██████████| 6/6 [00:01<00:00,  3.83it/s, accuracy=0.564, loss=1.71]\n",
      "Epoch 5: 100%|██████████| 6/6 [00:01<00:00,  3.80it/s, accuracy=0.565, loss=1.6]\n",
      "Epoch 6: 100%|██████████| 6/6 [00:01<00:00,  3.78it/s, accuracy=0.615, loss=1.47]\n",
      "Epoch 7: 100%|██████████| 6/6 [00:01<00:00,  3.84it/s, accuracy=0.648, loss=1.34]\n",
      "Epoch 8: 100%|██████████| 6/6 [00:01<00:00,  3.83it/s, accuracy=0.695, loss=1.24]\n",
      "Epoch 9: 100%|██████████| 6/6 [00:01<00:00,  3.82it/s, accuracy=0.745, loss=1.14]\n",
      "Epoch 10: 100%|██████████| 6/6 [00:01<00:00,  3.84it/s, accuracy=0.783, loss=1.05]\n",
      "Epoch 11: 100%|██████████| 6/6 [00:01<00:00,  3.81it/s, accuracy=0.799, loss=0.964]\n",
      "Epoch 12: 100%|██████████| 6/6 [00:01<00:00,  3.85it/s, accuracy=0.818, loss=0.883]\n",
      "Epoch 13: 100%|██████████| 6/6 [00:01<00:00,  3.85it/s, accuracy=0.828, loss=0.796]\n",
      "Epoch 14: 100%|██████████| 6/6 [00:01<00:00,  3.85it/s, accuracy=0.837, loss=0.732]\n",
      "Epoch 15: 100%|██████████| 6/6 [00:01<00:00,  3.86it/s, accuracy=0.846, loss=0.668]\n",
      "Epoch 16: 100%|██████████| 6/6 [00:01<00:00,  3.87it/s, accuracy=0.87, loss=0.609]\n",
      "Epoch 17: 100%|██████████| 6/6 [00:01<00:00,  3.84it/s, accuracy=0.878, loss=0.56]\n",
      "Epoch 18: 100%|██████████| 6/6 [00:01<00:00,  3.86it/s, accuracy=0.892, loss=0.518]\n",
      "Epoch 19: 100%|██████████| 6/6 [00:01<00:00,  3.84it/s, accuracy=0.897, loss=0.475]\n",
      "Epoch 20: 100%|██████████| 6/6 [00:01<00:00,  3.84it/s, accuracy=0.907, loss=0.446]\n",
      "Epoch 21: 100%|██████████| 6/6 [00:01<00:00,  3.86it/s, accuracy=0.924, loss=0.405]\n",
      "Epoch 22: 100%|██████████| 6/6 [00:01<00:00,  3.82it/s, accuracy=0.92, loss=0.383]\n",
      "Epoch 23: 100%|██████████| 6/6 [00:01<00:00,  3.87it/s, accuracy=0.933, loss=0.351]\n",
      "Epoch 24: 100%|██████████| 6/6 [00:01<00:00,  3.84it/s, accuracy=0.937, loss=0.334]\n",
      "Epoch 25: 100%|██████████| 6/6 [00:01<00:00,  3.85it/s, accuracy=0.939, loss=0.314]\n",
      "Epoch 26: 100%|██████████| 6/6 [00:01<00:00,  3.85it/s, accuracy=0.943, loss=0.292]\n",
      "Epoch 27: 100%|██████████| 6/6 [00:01<00:00,  3.85it/s, accuracy=0.945, loss=0.279]\n",
      "Epoch 28: 100%|██████████| 6/6 [00:01<00:00,  3.85it/s, accuracy=0.951, loss=0.258]\n",
      "Epoch 29: 100%|██████████| 6/6 [00:01<00:00,  3.87it/s, accuracy=0.96, loss=0.244]\n",
      "Epoch 30: 100%|██████████| 6/6 [00:01<00:00,  3.87it/s, accuracy=0.957, loss=0.23]\n",
      "Epoch 31: 100%|██████████| 6/6 [00:01<00:00,  3.87it/s, accuracy=0.961, loss=0.217]\n",
      "Epoch 32: 100%|██████████| 6/6 [00:01<00:00,  3.86it/s, accuracy=0.965, loss=0.206]\n",
      "Epoch 33: 100%|██████████| 6/6 [00:01<00:00,  3.87it/s, accuracy=0.969, loss=0.196]\n",
      "Epoch 34: 100%|██████████| 6/6 [00:01<00:00,  3.85it/s, accuracy=0.976, loss=0.187]\n"
     ]
    }
   ]
  },
  {
   "cell_type": "markdown",
   "metadata": {
    "id": "Z3nGspBerDw0"
   },
   "source": [
    "## 3. Performance report on test data ##"
   ]
  },
  {
   "cell_type": "code",
   "metadata": {
    "colab": {
     "base_uri": "https://localhost:8080/",
     "height": 590
    },
    "id": "qZyfg6zJp9fX",
    "executionInfo": {
     "status": "ok",
     "timestamp": 1639157060847,
     "user_tz": -60,
     "elapsed": 999,
     "user": {
      "displayName": "WENJIE JIN",
      "photoUrl": "https://lh3.googleusercontent.com/a/default-user=s64",
      "userId": "02701011265521055522"
     }
    },
    "outputId": "53f43b69-9de5-4481-f2c3-afdd5cbf69b1"
   },
   "source": [
    "plt.figure(1)\n",
    "plt.plot(history[f'train_loss'])\n",
    "plt.plot(history[f'val_loss'])\n",
    "plt.title(f'model loss')\n",
    "plt.ylabel('loss')\n",
    "plt.xlabel('epoch')\n",
    "plt.legend(['train', 'valid'], loc='upper right')\n",
    "plt.show\n",
    "\n",
    "plt.figure(2)\n",
    "plt.plot(history[f'train_accuracy'])\n",
    "plt.plot(history[f'val_accuracy'])\n",
    "plt.title(f'model accuracy')\n",
    "plt.ylabel('accuracy')\n",
    "plt.xlabel('epoch')\n",
    "plt.legend(['train', 'valid'], loc='upper right')\n",
    "plt.show"
   ],
   "execution_count": 22,
   "outputs": [
    {
     "output_type": "execute_result",
     "data": {
      "text/plain": [
       "<function matplotlib.pyplot.show>"
      ]
     },
     "metadata": {},
     "execution_count": 22
    },
    {
     "output_type": "display_data",
     "data": {
      "image/png": "[encoded data removed]",
      "text/plain": [
       "<Figure size 432x288 with 1 Axes>"
      ]
     },
     "metadata": {
      "needs_background": "light"
     }
    },
    {
     "output_type": "display_data",
     "data": {
      "image/png": "[encoded data removed]",
      "text/plain": [
       "<Figure size 432x288 with 1 Axes>"
      ]
     },
     "metadata": {
      "needs_background": "light"
     }
    }
   ]
  },
  {
   "cell_type": "code",
   "metadata": {
    "colab": {
     "base_uri": "https://localhost:8080/"
    },
    "id": "TX4eFs15qI9C",
    "executionInfo": {
     "status": "ok",
     "timestamp": 1639157075401,
     "user_tz": -60,
     "elapsed": 228,
     "user": {
      "displayName": "WENJIE JIN",
      "photoUrl": "https://lh3.googleusercontent.com/a/default-user=s64",
      "userId": "02701011265521055522"
     }
    },
    "outputId": "1d0d6ea2-221c-4fb3-c09f-26d8127ff726"
   },
   "source": [
    "labels, predictions, loss, accuracy = valid(model, testing_loader)\n",
    "print(f\"Validation : loss {loss:.2f} accuracy {accuracy:.2f}\")\n",
    "\n",
    "from seqeval.metrics import classification_report\n",
    "\n",
    "print(classification_report([labels], [predictions]))\n",
    "\n",
    "# for source, pred in zip(labels, predictions):\n",
    "#   print(f'{source:20} {pred}')\n",
    "\n"
   ],
   "execution_count": 23,
   "outputs": [
    {
     "output_type": "stream",
     "name": "stdout",
     "text": [
      "Validation : loss 0.87 accuracy 0.84\n",
      "                 precision    recall  f1-score   support\n",
      "\n",
      "        Airline       0.75      0.75      0.75         4\n",
      "          Cause       0.33      1.00      0.50         1\n",
      " DateOfAccident       0.75      0.75      0.75         4\n",
      "   FlightNumber       0.80      1.00      0.89         4\n",
      "NumberOfVictims       0.50      0.67      0.57         3\n",
      "      Passenger       0.50      0.50      0.50         2\n",
      "          Place       0.50      1.00      0.67         3\n",
      "      Survivors       0.00      0.00      0.00         1\n",
      "    Tripulation       1.00      1.00      1.00         1\n",
      " TypeOfAccident       0.67      0.67      0.67         3\n",
      " TypeOfAircraft       0.67      1.00      0.80         4\n",
      "           Year       0.75      1.00      0.86         3\n",
      "\n",
      "      micro avg       0.63      0.82      0.71        33\n",
      "      macro avg       0.60      0.78      0.66        33\n",
      "   weighted avg       0.65      0.82      0.71        33\n",
      "\n"
     ]
    }
   ]
  },
  {
   "cell_type": "markdown",
   "metadata": {
    "id": "o5HrxZ1vruG9"
   },
   "source": [
    "## 4. Showing the full extracted strings ##"
   ]
  },
  {
   "cell_type": "code",
   "metadata": {
    "colab": {
     "base_uri": "https://localhost:8080/"
    },
    "id": "IUyPwzXlruaz",
    "executionInfo": {
     "status": "ok",
     "timestamp": 1639157378211,
     "user_tz": -60,
     "elapsed": 251,
     "user": {
      "displayName": "WENJIE JIN",
      "photoUrl": "https://lh3.googleusercontent.com/a/default-user=s64",
      "userId": "02701011265521055522"
     }
    },
    "outputId": "e513e84a-3741-47d2-9079-3f20f017a99c"
   },
   "source": [
    "for source, pred in zip(labels, predictions):\n",
    "  print(f'{source:20} {pred}')"
   ],
   "execution_count": 24,
   "outputs": [
    {
     "output_type": "stream",
     "name": "stdout",
     "text": [
      "B-Year               B-Year\n",
      "B-DateOfAccident     B-DateOfAccident\n",
      "I-DateOfAccident     I-DateOfAccident\n",
      "O                    O\n",
      "B-Airline            B-Airline\n",
      "B-FlightNumber       B-FlightNumber\n",
      "I-FlightNumber       I-FlightNumber\n",
      "O                    O\n",
      "O                    O\n",
      "B-TypeOfAircraft     B-TypeOfAircraft\n",
      "I-TypeOfAircraft     I-TypeOfAircraft\n",
      "O                    O\n",
      "B-TypeOfAccident     B-TypeOfAccident\n",
      "O                    O\n",
      "O                    O\n",
      "O                    I-Place\n",
      "O                    O\n",
      "O                    I-Place\n",
      "B-Place              B-Place\n",
      "I-Place              I-Place\n",
      "I-Place              I-Place\n",
      "I-Place              I-Place\n",
      "I-Place              I-Place\n",
      "O                    O\n",
      "O                    O\n",
      "O                    O\n",
      "B-Passenger          O\n",
      "I-Passenger          I-Cause\n",
      "O                    O\n",
      "O                    O\n",
      "B-NumberOfVictims    B-Passenger\n",
      "O                    O\n",
      "O                    O\n",
      "B-Tripulation        B-Tripulation\n",
      "O                    O\n",
      "O                    O\n",
      "O                    O\n",
      "O                    O\n",
      "O                    O\n",
      "O                    O\n",
      "O                    O\n",
      "O                    O\n",
      "O                    O\n",
      "O                    O\n",
      "O                    O\n",
      "O                    O\n",
      "O                    O\n",
      "O                    O\n",
      "O                    O\n",
      "O                    O\n",
      "O                    O\n",
      "O                    O\n",
      "B-DateOfAccident     B-Year\n",
      "O                    B-DateOfAccident\n",
      "O                    I-DateOfAccident\n",
      "O                    O\n",
      "O                    B-Airline\n",
      "O                    I-Airline\n",
      "O                    B-FlightNumber\n",
      "O                    I-FlightNumber\n",
      "O                    O\n",
      "O                    B-TypeOfAircraft\n",
      "O                    I-TypeOfAircraft\n",
      "O                    B-TypeOfAccident\n",
      "O                    O\n",
      "O                    B-Place\n",
      "O                    I-Place\n",
      "O                    I-Place\n",
      "O                    I-Place\n",
      "O                    O\n",
      "O                    O\n",
      "O                    B-NumberOfVictims\n",
      "O                    O\n",
      "O                    O\n",
      "O                    O\n",
      "O                    O\n",
      "O                    B-Survivors\n",
      "O                    O\n",
      "O                    O\n",
      "O                    O\n",
      "B-Year               B-Year\n",
      "B-DateOfAccident     B-DateOfAccident\n",
      "I-DateOfAccident     I-DateOfAccident\n",
      "O                    O\n",
      "B-Airline            B-Airline\n",
      "I-Airline            I-Airline\n",
      "I-Airline            I-Airline\n",
      "B-FlightNumber       B-FlightNumber\n",
      "I-FlightNumber       I-FlightNumber\n",
      "O                    O\n",
      "O                    O\n",
      "B-TypeOfAircraft     B-TypeOfAircraft\n",
      "I-TypeOfAircraft     I-TypeOfAircraft\n",
      "O                    O\n",
      "B-TypeOfAccident     B-Cause\n",
      "O                    O\n",
      "O                    O\n",
      "O                    O\n",
      "B-Airline            B-Airline\n",
      "I-Airline            I-Airline\n",
      "B-FlightNumber       B-FlightNumber\n",
      "I-FlightNumber       I-FlightNumber\n",
      "O                    O\n",
      "O                    O\n",
      "B-TypeOfAircraft     B-TypeOfAircraft\n",
      "I-TypeOfAircraft     I-TypeOfAircraft\n",
      "O                    O\n",
      "O                    O\n",
      "B-Place              I-Place\n",
      "I-Place              I-Place\n",
      "I-Place              I-Place\n",
      "O                    O\n",
      "O                    O\n",
      "B-NumberOfVictims    B-NumberOfVictims\n",
      "O                    O\n",
      "O                    O\n",
      "O                    O\n",
      "O                    O\n",
      "O                    O\n",
      "O                    O\n",
      "O                    O\n",
      "B-NumberOfVictims    B-NumberOfVictims\n",
      "O                    O\n",
      "O                    O\n",
      "O                    O\n",
      "O                    O\n",
      "O                    I-TypeOfAircraft\n",
      "O                    O\n",
      "O                    O\n",
      "B-Year               B-Year\n",
      "B-DateOfAccident     B-DateOfAccident\n",
      "I-DateOfAccident     I-DateOfAccident\n",
      "O                    O\n",
      "B-Airline            O\n",
      "B-FlightNumber       B-FlightNumber\n",
      "I-FlightNumber       I-FlightNumber\n",
      "O                    O\n",
      "O                    O\n",
      "B-TypeOfAircraft     B-TypeOfAircraft\n",
      "I-TypeOfAircraft     I-TypeOfAircraft\n",
      "O                    O\n",
      "B-Cause              B-Cause\n",
      "I-Cause              I-Cause\n",
      "I-Cause              I-Cause\n",
      "I-Cause              I-Cause\n",
      "O                    O\n",
      "B-TypeOfAccident     B-TypeOfAccident\n",
      "O                    O\n",
      "O                    O\n",
      "O                    O\n",
      "O                    O\n",
      "O                    O\n",
      "B-Place              I-Place\n",
      "I-Place              I-Place\n",
      "I-Place              I-Place\n",
      "I-Place              I-Place\n",
      "I-Place              I-Place\n",
      "I-Place              I-Place\n",
      "I-Place              I-Place\n",
      "I-Place              I-Place\n",
      "O                    O\n",
      "O                    O\n",
      "O                    O\n",
      "B-Passenger          B-Passenger\n",
      "O                    O\n",
      "O                    O\n",
      "O                    O\n",
      "B-Survivors          B-NumberOfVictims\n",
      "O                    O\n"
     ]
    }
   ]
  },
  {
   "cell_type": "markdown",
   "metadata": {
    "id": "PtdlXLG5raYD"
   },
   "source": [
    "## 5. Save model ##"
   ]
  },
  {
   "cell_type": "code",
   "metadata": {
    "colab": {
     "base_uri": "https://localhost:8080/"
    },
    "id": "IGNKcq9CtXy1",
    "executionInfo": {
     "status": "ok",
     "timestamp": 1639157389178,
     "user_tz": -60,
     "elapsed": 8968,
     "user": {
      "displayName": "WENJIE JIN",
      "photoUrl": "https://lh3.googleusercontent.com/a/default-user=s64",
      "userId": "02701011265521055522"
     }
    },
    "outputId": "c99866c1-1e0e-41aa-c578-164ad576bb1f"
   },
   "source": [
    "path = './model/aviation-accidents.pt'\n",
    "#saving model: \n",
    "torch.save(model, path)\n",
    "print('Torch model saved')\n",
    "\n",
    "\n",
    "directory = Path(\"./model\")\n",
    "directory.mkdir(parents=True, exist_ok=True)\n",
    "\n",
    "# save vocabulary of the tokenizer\n",
    "tokenizer.save_vocabulary(str(directory))\n",
    "# save the model weights and its configuration file\n",
    "model.save_pretrained(directory)\n",
    "\n",
    "# Cosa para guardar\n",
    "data2save = {}\n",
    "data2save[\"max_seq_len\"] = max_seq_len\n",
    "data2save[\"index2tag\"] = index2tag\n",
    "with open('./model/data.json', 'w') as f:\n",
    "  json.dump(data2save, f)\n",
    "\n",
    "#save tags\n",
    "print('All files saved')"
   ],
   "execution_count": 25,
   "outputs": [
    {
     "output_type": "stream",
     "name": "stdout",
     "text": [
      "Torch model saved\n",
      "All files saved\n"
     ]
    }
   ]
  }
 ]
}